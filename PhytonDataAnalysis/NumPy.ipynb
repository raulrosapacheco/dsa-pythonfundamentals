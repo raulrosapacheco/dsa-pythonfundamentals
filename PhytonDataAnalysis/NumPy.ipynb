{
 "cells": [
  {
   "cell_type": "code",
   "execution_count": 1,
   "id": "bf282d2e",
   "metadata": {},
   "outputs": [],
   "source": [
    "import numpy as np"
   ]
  },
  {
   "cell_type": "code",
   "execution_count": null,
   "id": "fa0bdce0",
   "metadata": {},
   "outputs": [],
   "source": [
    "np.__version__"
   ]
  },
  {
   "cell_type": "markdown",
   "id": "e2ebd1b2",
   "metadata": {},
   "source": [
    "# NumPy\n",
    "\n",
    "www.numpy.org/\n",
    "\n",
    "Pacote para computação matemática em Python. Array e Matrizes\n",
    "\n",
    "Para importar numpy, utilize: import numpy as np\n",
    "\n",
    "Você também pode utilizar: from numpy import * . Isso evitará a utilização de np., mas este comando importará todos os módulos do NumPy.\n",
    "\n",
    "Para atualizar o NumPy, abra o prompt de comando e digite: pip install numpy -U\n",
    "\n",
    "### Um array NumPy é um Conjunto de valores, todos do mesmo tipo e indexados por uma tupla de valores não-negativos. É muito mais eficiente do que usar funções built-in"
   ]
  },
  {
   "cell_type": "markdown",
   "id": "7d901a0d",
   "metadata": {},
   "source": [
    "## Criando Arrays"
   ]
  },
  {
   "cell_type": "code",
   "execution_count": null,
   "id": "7b495853",
   "metadata": {},
   "outputs": [],
   "source": [
    "help(np.array)"
   ]
  },
  {
   "cell_type": "code",
   "execution_count": null,
   "id": "f12c5a5b",
   "metadata": {},
   "outputs": [],
   "source": [
    "# Criando um array apartir de uma lista:\n",
    "vetor1 = np.array([0, 1, 2, 3, 4, 5, 6, 7, 8])\n",
    "print(vetor1)\n",
    "type(vetor1)\n",
    "# Um objeto do tipo ndarray é um recipiente multidimensional de itens do mesmo tipo e tamanho."
   ]
  },
  {
   "cell_type": "code",
   "execution_count": null,
   "id": "b0affe3d",
   "metadata": {},
   "outputs": [],
   "source": [
    "# Calculando a soma acumulada através do método cumsum()\n",
    "vetor1.cumsum()"
   ]
  },
  {
   "cell_type": "code",
   "execution_count": null,
   "id": "a5abaf4d",
   "metadata": {},
   "outputs": [],
   "source": [
    "# Alterando elemento do array\n",
    "vetor1[0] = 100\n",
    "print(vetor1)"
   ]
  },
  {
   "cell_type": "code",
   "execution_count": null,
   "id": "9e3ab6da",
   "metadata": {},
   "outputs": [],
   "source": [
    "# não é possível incluir elemento de outro tipo\n",
    "vetor1[0] = 'Novo elemento'"
   ]
  },
  {
   "cell_type": "code",
   "execution_count": null,
   "id": "488c9f4c",
   "metadata": {},
   "outputs": [],
   "source": [
    "# Formato do array \n",
    "print(vetor1.shape)\n",
    "# array com uma dimensão e 9 elementos nessa dimensão"
   ]
  },
  {
   "cell_type": "code",
   "execution_count": null,
   "id": "da420adf",
   "metadata": {},
   "outputs": [],
   "source": [
    "# A função arange cria um vetor contendo uma progressão aritmética a partir de um intervalo - start, stop, step\n",
    "vetor2 = np.arange(0., 4.5, .5)\n",
    "print(vetor2)\n",
    "# Outra forma de verificar o formato do array\n",
    "print(np.shape(vetor2))\n",
    "# Verificando o tipo de dado no array\n",
    "print(vetor2.dtype)"
   ]
  },
  {
   "cell_type": "code",
   "execution_count": null,
   "id": "315e6bcd",
   "metadata": {},
   "outputs": [],
   "source": [
    "# Criando um novo array\n",
    "x = np.arange(1, 10, 0.25)\n",
    "print(x)"
   ]
  },
  {
   "cell_type": "code",
   "execution_count": null,
   "id": "aa148db9",
   "metadata": {},
   "outputs": [],
   "source": [
    "# Criando um array de zero com 10 elementos\n",
    "print(np.zeros(10))"
   ]
  },
  {
   "cell_type": "code",
   "execution_count": null,
   "id": "25ecfbf3",
   "metadata": {},
   "outputs": [],
   "source": [
    "# Criando um novo array retornando 1 em diagonal principal e zeros no restante\n",
    "z = np.eye(3)\n",
    "print(z)"
   ]
  },
  {
   "cell_type": "code",
   "execution_count": null,
   "id": "ece6d6cb",
   "metadata": {},
   "outputs": [],
   "source": [
    "# Criando um novo array em que os valores passados em parametro formam a diagonal principal\n",
    "d = np.diag(np.array([1, 2, 3, 4]))\n",
    "print(d)"
   ]
  },
  {
   "cell_type": "code",
   "execution_count": null,
   "id": "cb2ef14c",
   "metadata": {},
   "outputs": [],
   "source": [
    "# Array de números complexos, strings e valores booleanos\n",
    "c = np.array([1+2j, 3+4j, 5+6*1j])\n",
    "b = np.array([True, False, False, True])\n",
    "s = np.array(['Python', 'R', 'Julia'])\n",
    "print(c)\n",
    "print(b)\n",
    "print(s)"
   ]
  },
  {
   "cell_type": "code",
   "execution_count": null,
   "id": "0966ae74",
   "metadata": {},
   "outputs": [],
   "source": [
    "# O método linspace (linearly spaced vector) retorna um número de \n",
    "# valores igualmente distribuidos no intervalo especificado\n",
    "# entorpecido. linspace( start , stop , num = 50 , endpoint = True , retstep = False , dtype = None , axis = 0 )\n",
    "print(np.linspace(0, 10))\n",
    "print(np.linspace(0, 10, 15))"
   ]
  },
  {
   "cell_type": "code",
   "execution_count": 13,
   "id": "7dc8dc25",
   "metadata": {},
   "outputs": [
    {
     "name": "stdout",
     "output_type": "stream",
     "text": [
      "[1.00000000e+00 3.59381366e+00 1.29154967e+01 4.64158883e+01\n",
      " 1.66810054e+02 5.99484250e+02 2.15443469e+03 7.74263683e+03\n",
      " 2.78255940e+04 1.00000000e+05]\n"
     ]
    }
   ],
   "source": [
    "# Retorne os números espaçados uniformemente em uma escala logarítmica.\n",
    "print(np.logspace(0, 5, 10))"
   ]
  },
  {
   "cell_type": "markdown",
   "id": "f699fc74",
   "metadata": {},
   "source": [
    "## Criando Matrizes"
   ]
  },
  {
   "cell_type": "code",
   "execution_count": 14,
   "id": "b5695586",
   "metadata": {},
   "outputs": [
    {
     "name": "stdout",
     "output_type": "stream",
     "text": [
      "[[1 2 3]\n",
      " [4 5 6]]\n",
      "(2, 3)\n"
     ]
    }
   ],
   "source": [
    "matriz = np.array([[1, 2, 3],[4, 5, 6]])\n",
    "print(matriz)\n",
    "# Matriz com 2 linhas e 3 colunas\n",
    "print(matriz.shape)"
   ]
  },
  {
   "cell_type": "code",
   "execution_count": 15,
   "id": "90b0ec85",
   "metadata": {},
   "outputs": [
    {
     "name": "stdout",
     "output_type": "stream",
     "text": [
      "[[1. 1. 1.]\n",
      " [1. 1. 1.]]\n"
     ]
    }
   ],
   "source": [
    "# Criando uma matriz 2x3 apenas com números \"1\"\n",
    "matriz1 = np.ones((2,3))\n",
    "print(matriz1)"
   ]
  },
  {
   "cell_type": "code",
   "execution_count": 16,
   "id": "0d80065d",
   "metadata": {},
   "outputs": [
    {
     "name": "stdout",
     "output_type": "stream",
     "text": [
      "[[13 81 22]\n",
      " [ 0 34 59]\n",
      " [21 48 94]]\n",
      "<class 'numpy.matrix'>\n",
      "(3, 3)\n"
     ]
    }
   ],
   "source": [
    "# Criando uma matriz a partir de uma lista de listas\n",
    "lista = [[13,81,22], [0, 34, 59], [21, 48, 94]]\n",
    "matriz2 = np.matrix(lista)\n",
    "print(matriz2)\n",
    "print(type(matriz2))\n",
    "print(np.shape(matriz2))"
   ]
  },
  {
   "cell_type": "code",
   "execution_count": 17,
   "id": "e209bb7b",
   "metadata": {},
   "outputs": [
    {
     "name": "stdout",
     "output_type": "stream",
     "text": [
      "8\n"
     ]
    },
    {
     "data": {
      "text/plain": [
       "72"
      ]
     },
     "execution_count": 17,
     "metadata": {},
     "output_type": "execute_result"
    }
   ],
   "source": [
    "# Verificando o tamalho de cada elemento da matriz que irá ocupar na memoria do computador\n",
    "print(matriz2.itemsize)\n",
    "# Verificando o tamalho opupado pela matriz na memoria do computador\n",
    "matriz2.nbytes"
   ]
  },
  {
   "cell_type": "code",
   "execution_count": 18,
   "id": "0526cef4",
   "metadata": {},
   "outputs": [
    {
     "data": {
      "text/plain": [
       "48"
      ]
     },
     "execution_count": 18,
     "metadata": {},
     "output_type": "execute_result"
    }
   ],
   "source": [
    "# Retornando valor de um elemento na matriz\n",
    "matriz2[2,1]"
   ]
  },
  {
   "cell_type": "code",
   "execution_count": 19,
   "id": "5b867627",
   "metadata": {},
   "outputs": [
    {
     "name": "stdout",
     "output_type": "stream",
     "text": [
      "[[ 13  81  22]\n",
      " [100  34  59]\n",
      " [ 21  48  94]]\n"
     ]
    }
   ],
   "source": [
    "# Alterando um elemento\n",
    "matriz2[1,0] = 100\n",
    "print(matriz2)"
   ]
  },
  {
   "cell_type": "code",
   "execution_count": 20,
   "id": "45c1ea81",
   "metadata": {},
   "outputs": [
    {
     "name": "stdout",
     "output_type": "stream",
     "text": [
      "int64 float64 float64\n"
     ]
    }
   ],
   "source": [
    "x = np.array([1, 2])  # NumPy decide o tipo dos dados\n",
    "y = np.array([1.0, 2.0])  # NumPy decide o tipo dos dados\n",
    "z = np.array([1, 2], dtype=np.float64)  # Forçamos um tipo de dado em particular\n",
    "\n",
    "print (x.dtype, y.dtype, z.dtype)"
   ]
  },
  {
   "cell_type": "code",
   "execution_count": 21,
   "id": "c794e7ae",
   "metadata": {},
   "outputs": [
    {
     "name": "stdout",
     "output_type": "stream",
     "text": [
      "[[24. 76.]\n",
      " [35. 89.]]\n"
     ]
    }
   ],
   "source": [
    "matriz3 = np.array([[24, 76], [35, 89]], dtype=float)\n",
    "print(matriz3)"
   ]
  },
  {
   "cell_type": "code",
   "execution_count": 22,
   "id": "b46d09a8",
   "metadata": {},
   "outputs": [
    {
     "data": {
      "text/plain": [
       "2"
      ]
     },
     "execution_count": 22,
     "metadata": {},
     "output_type": "execute_result"
    }
   ],
   "source": [
    "# Dimensão de uma matriz\n",
    "matriz3.ndim"
   ]
  },
  {
   "cell_type": "markdown",
   "id": "df3cba67",
   "metadata": {},
   "source": [
    "## Usando o Método random() do NumPy"
   ]
  },
  {
   "cell_type": "code",
   "execution_count": 23,
   "id": "04856751",
   "metadata": {},
   "outputs": [
    {
     "name": "stdout",
     "output_type": "stream",
     "text": [
      "[0.92499355 0.5539425  0.44596954 0.68349007 0.30216387 0.15285757\n",
      " 0.63918838 0.06813346 0.6001548  0.48102454]\n"
     ]
    }
   ],
   "source": [
    "# Criando uma lista de 10 elementos no intervalo [0,1)\n",
    "print(np.random.rand(10))"
   ]
  },
  {
   "cell_type": "code",
   "execution_count": 24,
   "id": "9bc8031b",
   "metadata": {},
   "outputs": [],
   "source": [
    "import matplotlib.pyplot as plt\n",
    "%matplotlib inline"
   ]
  },
  {
   "cell_type": "code",
   "execution_count": 25,
   "id": "f7ef0068",
   "metadata": {},
   "outputs": [
    {
     "data": {
      "text/plain": [
       "'3.4.2'"
      ]
     },
     "execution_count": 25,
     "metadata": {},
     "output_type": "execute_result"
    }
   ],
   "source": [
    "import matplotlib as mat\n",
    "mat.__version__"
   ]
  },
  {
   "cell_type": "code",
   "execution_count": 26,
   "id": "cc022248",
   "metadata": {},
   "outputs": [
    {
     "data": {
      "image/png": "[encoded data removed]",
      "text/plain": [
       "<Figure size 432x288 with 1 Axes>"
      ]
     },
     "metadata": {
      "needs_background": "light"
     },
     "output_type": "display_data"
    }
   ],
   "source": [
    "# Criando um histograma para analisar a distribuição desses valores\n",
    "# Eixo X os valores gerados\n",
    "# Eixo Y a quantidade\n",
    "plt.show((plt.hist(np.random.rand(3000))))"
   ]
  },
  {
   "cell_type": "code",
   "execution_count": 32,
   "id": "75b7f713",
   "metadata": {},
   "outputs": [
    {
     "name": "stdout",
     "output_type": "stream",
     "text": [
      "[[-0.18769245  0.74887302 -2.62130454  0.14666468 -0.08797585]\n",
      " [-1.14637552  0.34920291  1.27840135 -0.86957829  0.45361993]\n",
      " [ 0.02693113 -0.10154636 -0.21141781  0.44547852 -0.30073428]\n",
      " [-0.30541612  0.91889202 -0.88874747  0.14088062  1.04193687]\n",
      " [-0.91202046  1.74521911 -0.2352058   0.46307336 -1.29656555]]\n",
      "\n",
      "[ 0.58392522 -0.27792532  2.03502382  0.32674924  0.75613779]\n"
     ]
    }
   ],
   "source": [
    "# Criando matriz(nxm) com flutuações aleatórias amostradas de uma distribuição univariada \"normal\" (Gaussiana)\n",
    "# de média 0 e variância 1.\n",
    "print(np.random.randn(5,5))\n",
    "print()\n",
    "print(np.random.randn(5))"
   ]
  },
  {
   "cell_type": "code",
   "execution_count": 28,
   "id": "8ee47e83",
   "metadata": {},
   "outputs": [
    {
     "data": {
      "image/png": "[encoded data removed]",
      "text/plain": [
       "<Figure size 432x288 with 1 Axes>"
      ]
     },
     "metadata": {
      "needs_background": "light"
     },
     "output_type": "display_data"
    }
   ],
   "source": [
    "plt.show(plt.hist(np.random.randn(1000)))"
   ]
  },
  {
   "cell_type": "code",
   "execution_count": 35,
   "id": "728aa804",
   "metadata": {},
   "outputs": [
    {
     "data": {
      "text/plain": [
       "<matplotlib.image.AxesImage at 0x7f05584c4d30>"
      ]
     },
     "execution_count": 35,
     "metadata": {},
     "output_type": "execute_result"
    },
    {
     "data": {
      "image/png": "[encoded data removed]",
      "text/plain": [
       "<Figure size 432x288 with 1 Axes>"
      ]
     },
     "metadata": {
      "needs_background": "light"
     },
     "output_type": "display_data"
    }
   ],
   "source": [
    "# Criando gráfico de calor\n",
    "imagem = np.random.randn(30, 30)\n",
    "# plt.imshow exibe dados como uma imagem\n",
    "# cmap: nome do mapa de cores registrado.\n",
    "# plt.cm: mapa de cores integrados, .hot (cores quentes)\n",
    "plt.imshow(imagem, cmap = plt.cm.hot)\n",
    "# plt.colorbar()"
   ]
  },
  {
   "cell_type": "markdown",
   "id": "6788599b",
   "metadata": {},
   "source": [
    "## Operações com DataSets"
   ]
  },
  {
   "cell_type": "code",
   "execution_count": 3,
   "id": "b661cad9",
   "metadata": {},
   "outputs": [],
   "source": [
    "# Importando o arquivo iris.csv\n",
    "import os\n",
    "filename = os.path.join('iris.csv')"
   ]
  },
  {
   "cell_type": "code",
   "execution_count": 4,
   "id": "1556285e",
   "metadata": {},
   "outputs": [
    {
     "name": "stdout",
     "output_type": "stream",
     "text": [
      "sepal_length,sepal_width,petal_length,petal_width,species\r\n",
      "5.1,3.5,1.4,0.2,setosa\r\n",
      "4.9,3,1.4,0.2,setosa\r\n",
      "4.7,3.2,1.3,0.2,setosa\r\n",
      "4.6,3.1,1.5,0.2,setosa\r\n",
      "5,3.6,1.4,0.2,setosa\r\n",
      "5.4,3.9,1.7,0.4,setosa\r\n",
      "4.6,3.4,1.4,0.3,setosa\r\n",
      "5,3.4,1.5,0.2,setosa\r\n",
      "4.4,2.9,1.4,0.2,setosa\r\n"
     ]
    }
   ],
   "source": [
    "# No Windows use !more iris.csv. Mac ou Linux use !head iris.csv\n",
    "# visualizando as primeira linhas do arquivo\n",
    "!head iris.csv"
   ]
  },
  {
   "cell_type": "code",
   "execution_count": 7,
   "id": "42bf23a6",
   "metadata": {},
   "outputs": [
    {
     "name": "stdout",
     "output_type": "stream",
     "text": [
      "[[5.1 3.5 1.4 0.2]\n",
      " [4.9 3.  1.4 0.2]\n",
      " [4.7 3.2 1.3 0.2]\n",
      " [4.6 3.1 1.5 0.2]\n",
      " [5.  3.6 1.4 0.2]\n",
      " [5.4 3.9 1.7 0.4]\n",
      " [4.6 3.4 1.4 0.3]\n",
      " [5.  3.4 1.5 0.2]\n",
      " [4.4 2.9 1.4 0.2]\n",
      " [4.9 3.1 1.5 0.1]\n",
      " [5.4 3.7 1.5 0.2]\n",
      " [4.8 3.4 1.6 0.2]\n",
      " [4.8 3.  1.4 0.1]\n",
      " [4.3 3.  1.1 0.1]\n",
      " [5.8 4.  1.2 0.2]\n",
      " [5.7 4.4 1.5 0.4]\n",
      " [5.4 3.9 1.3 0.4]\n",
      " [5.1 3.5 1.4 0.3]\n",
      " [5.7 3.8 1.7 0.3]\n",
      " [5.1 3.8 1.5 0.3]\n",
      " [5.4 3.4 1.7 0.2]\n",
      " [5.1 3.7 1.5 0.4]\n",
      " [4.6 3.6 1.  0.2]\n",
      " [5.1 3.3 1.7 0.5]\n",
      " [4.8 3.4 1.9 0.2]\n",
      " [5.  3.  1.6 0.2]\n",
      " [5.  3.4 1.6 0.4]\n",
      " [5.2 3.5 1.5 0.2]\n",
      " [5.2 3.4 1.4 0.2]\n",
      " [4.7 3.2 1.6 0.2]\n",
      " [4.8 3.1 1.6 0.2]\n",
      " [5.4 3.4 1.5 0.4]\n",
      " [5.2 4.1 1.5 0.1]\n",
      " [5.5 4.2 1.4 0.2]\n",
      " [4.9 3.1 1.5 0.1]\n",
      " [5.  3.2 1.2 0.2]\n",
      " [5.5 3.5 1.3 0.2]\n",
      " [4.9 3.1 1.5 0.1]\n",
      " [4.4 3.  1.3 0.2]\n",
      " [5.1 3.4 1.5 0.2]\n",
      " [5.  3.5 1.3 0.3]\n",
      " [4.5 2.3 1.3 0.3]\n",
      " [4.4 3.2 1.3 0.2]\n",
      " [5.  3.5 1.6 0.6]\n",
      " [5.1 3.8 1.9 0.4]\n",
      " [4.8 3.  1.4 0.3]\n",
      " [5.1 3.8 1.6 0.2]\n",
      " [4.6 3.2 1.4 0.2]\n",
      " [5.3 3.7 1.5 0.2]\n",
      " [5.  3.3 1.4 0.2]\n",
      " [7.  3.2 4.7 1.4]\n",
      " [6.4 3.2 4.5 1.5]\n",
      " [6.9 3.1 4.9 1.5]\n",
      " [5.5 2.3 4.  1.3]\n",
      " [6.5 2.8 4.6 1.5]\n",
      " [5.7 2.8 4.5 1.3]\n",
      " [6.3 3.3 4.7 1.6]\n",
      " [4.9 2.4 3.3 1. ]\n",
      " [6.6 2.9 4.6 1.3]\n",
      " [5.2 2.7 3.9 1.4]\n",
      " [5.  2.  3.5 1. ]\n",
      " [5.9 3.  4.2 1.5]\n",
      " [6.  2.2 4.  1. ]\n",
      " [6.1 2.9 4.7 1.4]\n",
      " [5.6 2.9 3.6 1.3]\n",
      " [6.7 3.1 4.4 1.4]\n",
      " [5.6 3.  4.5 1.5]\n",
      " [5.8 2.7 4.1 1. ]\n",
      " [6.2 2.2 4.5 1.5]\n",
      " [5.6 2.5 3.9 1.1]\n",
      " [5.9 3.2 4.8 1.8]\n",
      " [6.1 2.8 4.  1.3]\n",
      " [6.3 2.5 4.9 1.5]\n",
      " [6.1 2.8 4.7 1.2]\n",
      " [6.4 2.9 4.3 1.3]\n",
      " [6.6 3.  4.4 1.4]\n",
      " [6.8 2.8 4.8 1.4]\n",
      " [6.7 3.  5.  1.7]\n",
      " [6.  2.9 4.5 1.5]\n",
      " [5.7 2.6 3.5 1. ]\n",
      " [5.5 2.4 3.8 1.1]\n",
      " [5.5 2.4 3.7 1. ]\n",
      " [5.8 2.7 3.9 1.2]\n",
      " [6.  2.7 5.1 1.6]\n",
      " [5.4 3.  4.5 1.5]\n",
      " [6.  3.4 4.5 1.6]\n",
      " [6.7 3.1 4.7 1.5]\n",
      " [6.3 2.3 4.4 1.3]\n",
      " [5.6 3.  4.1 1.3]\n",
      " [5.5 2.5 4.  1.3]\n",
      " [5.5 2.6 4.4 1.2]\n",
      " [6.1 3.  4.6 1.4]\n",
      " [5.8 2.6 4.  1.2]\n",
      " [5.  2.3 3.3 1. ]\n",
      " [5.6 2.7 4.2 1.3]\n",
      " [5.7 3.  4.2 1.2]\n",
      " [5.7 2.9 4.2 1.3]\n",
      " [6.2 2.9 4.3 1.3]\n",
      " [5.1 2.5 3.  1.1]\n",
      " [5.7 2.8 4.1 1.3]\n",
      " [6.3 3.3 6.  2.5]\n",
      " [5.8 2.7 5.1 1.9]\n",
      " [7.1 3.  5.9 2.1]\n",
      " [6.3 2.9 5.6 1.8]\n",
      " [6.5 3.  5.8 2.2]\n",
      " [7.6 3.  6.6 2.1]\n",
      " [4.9 2.5 4.5 1.7]\n",
      " [7.3 2.9 6.3 1.8]\n",
      " [6.7 2.5 5.8 1.8]\n",
      " [7.2 3.6 6.1 2.5]\n",
      " [6.5 3.2 5.1 2. ]\n",
      " [6.4 2.7 5.3 1.9]\n",
      " [6.8 3.  5.5 2.1]\n",
      " [5.7 2.5 5.  2. ]\n",
      " [5.8 2.8 5.1 2.4]\n",
      " [6.4 3.2 5.3 2.3]\n",
      " [6.5 3.  5.5 1.8]\n",
      " [7.7 3.8 6.7 2.2]\n",
      " [7.7 2.6 6.9 2.3]\n",
      " [6.  2.2 5.  1.5]\n",
      " [6.9 3.2 5.7 2.3]\n",
      " [5.6 2.8 4.9 2. ]\n",
      " [7.7 2.8 6.7 2. ]\n",
      " [6.3 2.7 4.9 1.8]\n",
      " [6.7 3.3 5.7 2.1]\n",
      " [7.2 3.2 6.  1.8]\n",
      " [6.2 2.8 4.8 1.8]\n",
      " [6.1 3.  4.9 1.8]\n",
      " [6.4 2.8 5.6 2.1]\n",
      " [7.2 3.  5.8 1.6]\n",
      " [7.4 2.8 6.1 1.9]\n",
      " [7.9 3.8 6.4 2. ]\n",
      " [6.4 2.8 5.6 2.2]\n",
      " [6.3 2.8 5.1 1.5]\n",
      " [6.1 2.6 5.6 1.4]\n",
      " [7.7 3.  6.1 2.3]\n",
      " [6.3 3.4 5.6 2.4]\n",
      " [6.4 3.1 5.5 1.8]\n",
      " [6.  3.  4.8 1.8]\n",
      " [6.9 3.1 5.4 2.1]\n",
      " [6.7 3.1 5.6 2.4]\n",
      " [6.9 3.1 5.1 2.3]\n",
      " [5.8 2.7 5.1 1.9]\n",
      " [6.8 3.2 5.9 2.3]\n",
      " [6.7 3.3 5.7 2.5]\n",
      " [6.7 3.  5.2 2.3]\n",
      " [6.3 2.5 5.  1.9]\n",
      " [6.5 3.  5.2 2. ]\n",
      " [6.2 3.4 5.4 2.3]\n",
      " [5.9 3.  5.1 1.8]]\n"
     ]
    }
   ],
   "source": [
    "# Carregando um dataset para dentro de um array\n",
    "arquivo = np.loadtxt(filename, delimiter=',', usecols=(0,1,2,3), skiprows=1)\n",
    "# skiprows: começa a partir da n linha. Padrão skiprows=0\n",
    "# Por a primeira linha ser uma string e um array numpy apenas permitir elementos do mesmo tipo,\n",
    "# devemos pular a primeira linha\n",
    "print(arquivo)"
   ]
  },
  {
   "cell_type": "code",
   "execution_count": 8,
   "id": "39eb83cf",
   "metadata": {},
   "outputs": [
    {
     "data": {
      "text/plain": [
       "numpy.ndarray"
      ]
     },
     "execution_count": 8,
     "metadata": {},
     "output_type": "execute_result"
    }
   ],
   "source": [
    "type(arquivo)"
   ]
  },
  {
   "cell_type": "code",
   "execution_count": 11,
   "id": "7e54c6a2",
   "metadata": {},
   "outputs": [
    {
     "name": "stdout",
     "output_type": "stream",
     "text": [
      "[5.1 4.9 4.7 4.6 5.  5.4 4.6 5.  4.4 4.9 5.4 4.8 4.8 4.3 5.8 5.7 5.4 5.1\n",
      " 5.7 5.1 5.4 5.1 4.6 5.1 4.8 5.  5.  5.2 5.2 4.7 4.8 5.4 5.2 5.5 4.9 5.\n",
      " 5.5 4.9 4.4 5.1 5.  4.5 4.4 5.  5.1 4.8 5.1 4.6 5.3 5.  7.  6.4 6.9 5.5\n",
      " 6.5 5.7 6.3 4.9 6.6 5.2 5.  5.9 6.  6.1 5.6 6.7 5.6 5.8 6.2 5.6 5.9 6.1\n",
      " 6.3 6.1 6.4 6.6 6.8 6.7 6.  5.7 5.5 5.5 5.8 6.  5.4 6.  6.7 6.3 5.6 5.5\n",
      " 5.5 6.1 5.8 5.  5.6 5.7 5.7 6.2 5.1 5.7 6.3 5.8 7.1 6.3 6.5 7.6 4.9 7.3\n",
      " 6.7 7.2 6.5 6.4 6.8 5.7 5.8 6.4 6.5 7.7 7.7 6.  6.9 5.6 7.7 6.3 6.7 7.2\n",
      " 6.2 6.1 6.4 7.2 7.4 7.9 6.4 6.3 6.1 7.7 6.3 6.4 6.  6.9 6.7 6.9 5.8 6.8\n",
      " 6.7 6.7 6.3 6.5 6.2 5.9]\n",
      "[3.5 3.  3.2 3.1 3.6 3.9 3.4 3.4 2.9 3.1 3.7 3.4 3.  3.  4.  4.4 3.9 3.5\n",
      " 3.8 3.8 3.4 3.7 3.6 3.3 3.4 3.  3.4 3.5 3.4 3.2 3.1 3.4 4.1 4.2 3.1 3.2\n",
      " 3.5 3.1 3.  3.4 3.5 2.3 3.2 3.5 3.8 3.  3.8 3.2 3.7 3.3 3.2 3.2 3.1 2.3\n",
      " 2.8 2.8 3.3 2.4 2.9 2.7 2.  3.  2.2 2.9 2.9 3.1 3.  2.7 2.2 2.5 3.2 2.8\n",
      " 2.5 2.8 2.9 3.  2.8 3.  2.9 2.6 2.4 2.4 2.7 2.7 3.  3.4 3.1 2.3 3.  2.5\n",
      " 2.6 3.  2.6 2.3 2.7 3.  2.9 2.9 2.5 2.8 3.3 2.7 3.  2.9 3.  3.  2.5 2.9\n",
      " 2.5 3.6 3.2 2.7 3.  2.5 2.8 3.2 3.  3.8 2.6 2.2 3.2 2.8 2.8 2.7 3.3 3.2\n",
      " 2.8 3.  2.8 3.  2.8 3.8 2.8 2.8 2.6 3.  3.4 3.1 3.  3.1 3.1 3.1 2.7 3.2\n",
      " 3.3 3.  2.5 3.  3.4 3. ]\n"
     ]
    }
   ],
   "source": [
    "# Gerando um plot a partir de um arquivo usando o Numpy\n",
    "var1, var2 = np.loadtxt(filename, delimiter=',', usecols=(0,1), skiprows=1, unpack=True)\n",
    "# unpack=True permite que os atributos seja desempacotados em var1 e var2. Padrão: unpack=False\n",
    "# var1 irá guardar os elementos da coluna 0\n",
    "# var2 irá guardar os elementos da coluna 1\n",
    "print(var1)\n",
    "print(var2)"
   ]
  },
  {
   "cell_type": "code",
   "execution_count": 42,
   "id": "88f6fd2d",
   "metadata": {},
   "outputs": [
    {
     "data": {
      "image/png": "[encoded data removed]",
      "text/plain": [
       "<Figure size 432x288 with 1 Axes>"
      ]
     },
     "metadata": {
      "needs_background": "light"
     },
     "output_type": "display_data"
    }
   ],
   "source": [
    "# plt.show exibe a figura, grafico em aberto\n",
    "# plt.plot exibe gráfico (X,Y) como linhas ou marcadores\n",
    "# markersize: tamanho do ponto\n",
    "# alpha: tonalidade com range de 0-1\n",
    "plt.show(plt.plot(var1, var2, 'o', markersize=8, alpha=1))"
   ]
  },
  {
   "cell_type": "markdown",
   "id": "f31434ab",
   "metadata": {},
   "source": [
    "## Estatística"
   ]
  },
  {
   "cell_type": "code",
   "execution_count": 43,
   "id": "ab2b88ab",
   "metadata": {},
   "outputs": [],
   "source": [
    "# Criando um array\n",
    "A = np.array([15, 23, 63, 94, 75])"
   ]
  },
  {
   "cell_type": "code",
   "execution_count": 44,
   "id": "d0873f62",
   "metadata": {},
   "outputs": [
    {
     "data": {
      "text/plain": [
       "54.0"
      ]
     },
     "execution_count": 44,
     "metadata": {},
     "output_type": "execute_result"
    }
   ],
   "source": [
    "# Média\n",
    "np.mean(A)"
   ]
  },
  {
   "cell_type": "code",
   "execution_count": 45,
   "id": "f138eda7",
   "metadata": {},
   "outputs": [
    {
     "data": {
      "text/plain": [
       "30.34468652004828"
      ]
     },
     "execution_count": 45,
     "metadata": {},
     "output_type": "execute_result"
    }
   ],
   "source": [
    "# O desvio padrão mostra o quanto de variação ou \"dispersão\" existe em \n",
    "# relação à média (ou valor esperado). \n",
    "# Um baixo desvio padrão indica que os dados tendem a estar próximos da média.\n",
    "# Um desvio padrão alto indica que os dados estão espalhados por uma gama de valores.\n",
    "np.std(A)"
   ]
  },
  {
   "cell_type": "code",
   "execution_count": 46,
   "id": "02c33e57",
   "metadata": {},
   "outputs": [
    {
     "data": {
      "text/plain": [
       "array([1, 2, 3, 4, 5, 6, 7, 8, 9])"
      ]
     },
     "execution_count": 46,
     "metadata": {},
     "output_type": "execute_result"
    }
   ],
   "source": [
    "# Criando um outro array\n",
    "d = np.arange(1, 10)\n",
    "d"
   ]
  },
  {
   "cell_type": "code",
   "execution_count": 47,
   "id": "7658af96",
   "metadata": {},
   "outputs": [
    {
     "data": {
      "text/plain": [
       "45"
      ]
     },
     "execution_count": 47,
     "metadata": {},
     "output_type": "execute_result"
    }
   ],
   "source": [
    "# Soma\n",
    "np.sum(d)"
   ]
  },
  {
   "cell_type": "code",
   "execution_count": 48,
   "id": "a4f2d678",
   "metadata": {},
   "outputs": [
    {
     "data": {
      "text/plain": [
       "362880"
      ]
     },
     "execution_count": 48,
     "metadata": {},
     "output_type": "execute_result"
    }
   ],
   "source": [
    "# Produto\n",
    "np.prod(d)"
   ]
  },
  {
   "cell_type": "code",
   "execution_count": 49,
   "id": "8c404bce",
   "metadata": {},
   "outputs": [
    {
     "data": {
      "text/plain": [
       "array([ 1,  3,  6, 10, 15, 21, 28, 36, 45])"
      ]
     },
     "execution_count": 49,
     "metadata": {},
     "output_type": "execute_result"
    }
   ],
   "source": [
    "# Soma Acumulada\n",
    "np.cumsum(d)"
   ]
  },
  {
   "cell_type": "code",
   "execution_count": 50,
   "id": "036b7ac8",
   "metadata": {},
   "outputs": [
    {
     "name": "stdout",
     "output_type": "stream",
     "text": [
      "[[ 2.53079019e-01 -9.18209573e-01]\n",
      " [ 1.34839889e+00  1.97064252e-01]\n",
      " [ 2.82287006e+00 -2.36775978e-01]\n",
      " [ 1.25845229e+00  7.85717268e-01]\n",
      " [-1.24867268e+00  5.56279200e-01]\n",
      " [ 4.25870143e-02  9.52799934e-01]\n",
      " [-6.39809804e-01  2.68715638e-01]\n",
      " [ 1.23430637e+00  5.39800384e-01]\n",
      " [-4.19966755e-01  1.05686134e-03]\n",
      " [-6.28773067e-01 -6.35704748e-01]\n",
      " [ 1.41977586e-01 -2.29117433e-01]\n",
      " [ 6.81789634e-01  2.03728444e+00]\n",
      " [ 2.50495835e+00  8.76261287e-01]\n",
      " [ 3.50057670e-01 -1.45235955e+00]\n",
      " [-1.20138268e+00  6.73443196e-01]\n",
      " [ 1.50390076e+00 -3.86799352e-01]\n",
      " [-1.57405274e-01 -1.81579974e+00]\n",
      " [ 6.04954157e-02 -9.87428325e-01]\n",
      " [ 1.82228968e-01  2.18493232e+00]\n",
      " [ 5.97314588e-01 -6.80596942e-01]\n",
      " [ 1.36042062e+00 -1.14831828e+00]\n",
      " [ 1.06195947e+00 -1.71578838e-01]\n",
      " [ 6.17605324e-01 -1.05321143e+00]\n",
      " [-5.07979543e-01  9.67744016e-01]\n",
      " [-6.93673745e-01  8.16328240e-01]\n",
      " [ 5.11108658e-01  2.65133771e-01]\n",
      " [-1.37860599e+00  1.56975322e+00]\n",
      " [-1.44629655e+00  3.35498273e-01]\n",
      " [ 2.05551240e-01 -8.68138755e-01]\n",
      " [ 1.51250779e+00  2.38223769e-01]\n",
      " [ 2.26159622e+00  1.02792995e+00]\n",
      " [-7.35751136e-01 -1.07272184e-01]\n",
      " [ 9.94323194e-01 -1.15674217e-01]\n",
      " [ 1.50546347e+00  4.57006959e-01]\n",
      " [-1.64774483e+00  1.04679784e+00]\n",
      " [-2.32630744e-01 -1.11659736e+00]\n",
      " [ 1.27431228e+00  8.42178781e-01]\n",
      " [-9.50238708e-01 -9.42023992e-01]\n",
      " [ 1.94218899e-01 -6.21247965e-01]\n",
      " [ 2.01515410e+00 -1.97903312e-01]\n",
      " [ 1.54587583e+00 -2.01093594e-01]\n",
      " [ 4.12847994e-01  5.62360821e-01]\n",
      " [-8.82723307e-01  2.53175376e-01]\n",
      " [-8.34095158e-01 -8.73377027e-01]\n",
      " [-1.46392109e-01 -1.29691613e+00]\n",
      " [-8.06924537e-01  4.46133165e-01]\n",
      " [ 7.12536287e-01 -4.63458990e-01]\n",
      " [-5.06839896e-01 -1.87334965e-01]\n",
      " [-6.90155218e-01  1.12561431e+00]\n",
      " [ 3.23437858e-01  6.87847316e-01]\n",
      " [ 1.96958496e+00  1.63939605e+00]\n",
      " [ 9.36438956e-02 -9.07671363e-01]\n",
      " [-1.02955368e+00  1.93475361e-01]\n",
      " [-6.84714049e-02  1.33261345e+00]\n",
      " [-2.28455903e-01 -2.93668859e-01]\n",
      " [ 2.52743130e-01 -3.39927216e-01]\n",
      " [ 8.30102817e-01  2.68285507e-01]\n",
      " [-2.48202923e+00  4.14025932e-02]\n",
      " [-1.99430356e-01 -1.22032318e-01]\n",
      " [-9.04126990e-01 -7.33339258e-01]\n",
      " [-9.07620218e-01 -9.63107281e-01]\n",
      " [ 2.47481003e-01  1.25123449e+00]\n",
      " [-1.05362407e+00 -1.30009381e+00]\n",
      " [ 5.02857697e-01  5.35180517e-01]\n",
      " [-1.35616402e+00  4.23771210e-02]\n",
      " [-3.23322574e-01 -3.96485748e-01]\n",
      " [-8.87495898e-01 -1.37760804e+00]\n",
      " [ 5.53241631e-01  4.31146663e-01]\n",
      " [ 2.01384902e-01 -4.03832144e-01]\n",
      " [-5.15095257e-01 -4.60267964e-01]\n",
      " [ 7.82452325e-01 -5.24156405e-01]\n",
      " [-3.77842616e-01 -1.46346296e-01]\n",
      " [-1.33462064e+00  1.83683260e-01]\n",
      " [ 1.10185629e+00 -4.14556139e-01]\n",
      " [-9.18347826e-01 -8.55618514e-01]\n",
      " [ 6.91922701e-01 -1.30233605e+00]\n",
      " [-1.12214047e+00  1.24576274e+00]\n",
      " [-2.14330266e-01  2.88014686e-01]\n",
      " [ 3.83309165e-01  8.45482500e-01]\n",
      " [-3.22204126e-01  7.24408349e-01]\n",
      " [-7.46853057e-01 -2.00957282e+00]\n",
      " [ 1.44091376e+00 -4.69426090e-01]\n",
      " [-8.83769664e-01  4.40269184e-01]\n",
      " [ 6.08031485e-01  6.47397921e-01]\n",
      " [-7.60053047e-01  4.50970471e-01]\n",
      " [ 8.89465335e-01  1.41299966e-01]\n",
      " [-7.57637394e-01  2.95858494e-01]\n",
      " [ 1.08296553e+00 -8.94610754e-01]\n",
      " [-4.34786801e-01  1.94961140e+00]\n",
      " [-5.28895358e-01 -1.26852890e+00]\n",
      " [-4.89449480e-01 -1.53693258e+00]\n",
      " [ 6.97588086e-01  8.87314401e-02]\n",
      " [ 1.09515447e+00 -4.40869959e-01]\n",
      " [ 7.63644579e-01  1.08599547e+00]\n",
      " [ 7.56894441e-01  2.01297074e-01]\n",
      " [-6.95943340e-02 -1.05583738e+00]\n",
      " [ 2.05702224e+00  1.20101112e+00]\n",
      " [-9.62184194e-01  4.78882810e-01]\n",
      " [-1.64403056e+00 -3.21293009e-01]\n",
      " [ 8.98951529e-01 -6.44651549e-03]\n",
      " [ 2.16858258e+00 -5.92332614e-01]\n",
      " [-6.27285304e-01  5.83190929e-01]\n",
      " [ 5.54467207e-01  7.97677632e-03]\n",
      " [-4.21488369e-01 -7.56445954e-01]\n",
      " [-7.08080734e-01 -1.30128302e+00]\n",
      " [-3.79907409e-01 -8.00947741e-01]\n",
      " [ 2.99684358e-01 -1.31094680e-01]\n",
      " [-2.66647975e+00  5.07376454e-01]\n",
      " [ 4.84309757e-01 -2.32187058e-01]\n",
      " [ 4.28936940e-01 -9.98092739e-01]\n",
      " [ 3.53297979e-01 -1.45528988e+00]\n",
      " [-9.97093779e-01  9.78264542e-01]\n",
      " [-8.82264728e-01  1.23393374e+00]\n",
      " [-3.89288698e-01  9.34756000e-02]\n",
      " [-3.58346146e-04  5.88295045e-01]\n",
      " [-1.02583974e+00  7.41160069e-01]\n",
      " [ 4.34900843e-02  7.09201877e-01]\n",
      " [ 3.10929090e-01 -8.45858212e-01]\n",
      " [ 4.08163555e-01  1.05333348e-01]\n",
      " [ 7.94422320e-01  2.47412299e-01]\n",
      " [-1.30732456e+00 -2.90131162e-01]\n",
      " [ 5.45789602e-01  2.98101504e-01]\n",
      " [ 3.99252827e-01 -8.61102381e-01]\n",
      " [-1.38271592e-01  1.12254475e+00]\n",
      " [ 6.02947920e-01  3.88262833e-01]\n",
      " [ 1.01684882e+00  8.60727895e-02]\n",
      " [-1.54004715e-01  8.85897983e-01]\n",
      " [ 9.81201455e-01 -8.05577845e-01]\n",
      " [ 1.07137805e+00 -1.59327486e-02]\n",
      " [-5.39072164e-01  5.98346254e-01]\n",
      " [-1.95934328e-01 -9.22581184e-01]\n",
      " [ 1.67024783e-01 -7.03602225e-01]\n",
      " [-9.64336608e-01 -9.00668566e-02]\n",
      " [-3.61314578e-01 -1.65189746e+00]\n",
      " [ 3.72872645e-01  7.89398456e-01]\n",
      " [ 7.84266931e-02  2.15233021e-02]\n",
      " [ 1.22531052e-01 -1.38576187e+00]\n",
      " [-8.97772489e-01  1.10935244e+00]\n",
      " [ 1.04088866e-02  1.78921242e-02]\n",
      " [ 6.48500061e-01 -6.73677833e-02]\n",
      " [-1.12795690e-01  2.26136940e+00]\n",
      " [-1.37108243e+00 -4.29606744e-01]\n",
      " [-1.07293360e+00 -7.72469988e-01]\n",
      " [-1.82119696e+00 -8.82490227e-01]\n",
      " [-1.32184900e+00  1.54289645e-01]\n",
      " [-1.08171808e+00 -3.17540636e-01]\n",
      " [ 1.88672714e+00 -2.56810235e-02]\n",
      " [ 5.21757956e-01 -4.20030235e-01]\n",
      " [ 7.21712385e-01  1.66931727e-01]\n",
      " [ 4.06476238e-01 -1.60239902e+00]\n",
      " [ 3.31381000e-01 -7.33818025e-01]\n",
      " [ 3.78480930e-01  7.73679948e-01]\n",
      " [ 3.56483809e-02  4.22239844e-01]\n",
      " [-9.04882254e-01  3.24845305e-01]\n",
      " [ 1.17963527e+00 -5.52705286e-01]\n",
      " [ 5.87950188e-01  1.30451516e+00]\n",
      " [-1.16571293e+00 -8.19455899e-02]\n",
      " [ 1.02975735e+00  1.17952334e+00]\n",
      " [-9.78207296e-01 -5.19987066e-01]\n",
      " [-1.06197711e+00  2.22533352e+00]\n",
      " [ 6.19458925e-01  9.23977651e-01]\n",
      " [-1.12601435e+00  3.47570391e-01]\n",
      " [-5.80352831e-01 -6.06256448e-02]\n",
      " [-7.37288306e-01  8.38551547e-02]\n",
      " [ 4.26305074e-01  4.34539085e-01]\n",
      " [-8.59069564e-02  1.70278140e+00]\n",
      " [ 7.32692950e-01  1.02662962e+00]\n",
      " [-6.70987670e-01  1.44793633e-01]\n",
      " [ 1.12261846e-01  3.63166918e-01]\n",
      " [-1.71260360e-01  1.49360264e+00]\n",
      " [ 6.71370001e-01  1.75834404e+00]\n",
      " [-1.77857501e+00  4.25032321e-01]\n",
      " [-1.76880071e+00 -1.61559262e-02]\n",
      " [-7.80229318e-01 -8.15347821e-01]\n",
      " [-1.23064661e+00  1.34197255e+00]\n",
      " [ 5.11720120e-01 -7.91497169e-01]\n",
      " [ 1.23189440e-01  1.78992006e+00]\n",
      " [ 2.77736111e+00 -3.27965278e-01]\n",
      " [-1.57562115e+00  5.46261854e-01]\n",
      " [ 1.03193144e+00 -1.72638890e+00]\n",
      " [ 8.02371151e-01  2.10701964e+00]\n",
      " [ 8.87094534e-01  1.04735326e+00]\n",
      " [-6.15501561e-01  1.83291977e-01]\n",
      " [-6.91994481e-01 -1.16796386e+00]\n",
      " [ 5.86483575e-01  6.08393237e-01]\n",
      " [-2.62913492e-01  1.92200777e-01]\n",
      " [-2.70954968e+00  7.01741639e-01]\n",
      " [ 5.27957663e-01  8.27285325e-01]\n",
      " [-1.00067749e+00  4.51694178e-01]\n",
      " [-1.24064824e+00  1.15758810e-01]\n",
      " [-1.92624011e-01 -2.68662125e-01]\n",
      " [-1.27590143e+00  3.39461738e-01]\n",
      " [ 1.40320611e+00  3.71648717e-01]\n",
      " [ 1.13103751e+00  1.82227155e-02]\n",
      " [ 1.91821750e-01  8.97370162e-01]\n",
      " [-1.53062235e-01 -5.38235039e-01]\n",
      " [-5.02880848e-01  4.58377228e-01]\n",
      " [-4.64468530e-01 -9.04209645e-01]\n",
      " [ 3.75517475e+00  6.70085209e-01]\n",
      " [-7.52874641e-01 -5.29777407e-01]\n",
      " [-3.83231592e-01  2.04524168e+00]\n",
      " [ 1.30160656e+00  1.62730181e+00]\n",
      " [ 5.69921299e-01  4.84944425e-01]\n",
      " [-7.33885824e-01 -3.52188440e-01]\n",
      " [-4.02851542e-01 -2.85477235e+00]\n",
      " [-1.25425715e+00 -7.88801805e-01]\n",
      " [ 9.18385723e-01  1.08030292e+00]\n",
      " [ 2.65074275e-01 -2.59365783e-01]\n",
      " [ 2.45263577e-01 -9.90582548e-01]\n",
      " [-1.55949157e+00 -4.91100442e-01]\n",
      " [-9.85676625e-02 -1.49664536e+00]\n",
      " [-1.75770241e+00  1.23183613e-01]\n",
      " [ 1.87510520e+00 -5.28560178e-01]\n",
      " [ 1.89252647e-01 -4.59846453e-01]\n",
      " [ 2.26023553e-01 -8.50782893e-01]\n",
      " [ 8.46304232e-01 -2.05105909e-01]\n",
      " [-9.07991083e-02 -3.97872555e-01]\n",
      " [ 1.79111751e-01 -1.68252711e+00]\n",
      " [-9.44227953e-01  1.76824420e-01]\n",
      " [-7.54045929e-01 -6.85276672e-01]\n",
      " [-9.52301453e-01  8.25012872e-01]\n",
      " [ 1.26261587e+00 -9.23263180e-01]\n",
      " [-2.66722356e-01  1.12864243e+00]\n",
      " [ 1.46416787e+00  9.69482789e-02]\n",
      " [ 4.92766054e-01  1.53604964e-01]\n",
      " [ 1.13759231e+00 -7.77540467e-01]\n",
      " [ 6.08341315e-01  3.33337230e+00]\n",
      " [ 1.01212425e+00  1.79772872e-01]\n",
      " [ 3.49189715e-01  9.00379514e-01]\n",
      " [ 1.74770997e+00  1.08445395e+00]\n",
      " [-3.76871550e-01 -3.27764194e-01]\n",
      " [-1.37194356e+00  1.80510204e+00]\n",
      " [ 1.10561251e+00 -1.10407706e+00]\n",
      " [-2.69096268e-01  5.38956841e-02]\n",
      " [ 1.70221040e-01  4.85612708e-01]\n",
      " [-3.14758181e-01  3.74669116e-01]\n",
      " [-2.39177568e+00  6.25016621e-01]\n",
      " [-7.62122926e-01 -7.30405885e-01]\n",
      " [-1.47337366e-01  5.94081835e-02]\n",
      " [-4.49197277e-01 -5.13167646e-01]\n",
      " [-8.40405441e-01  1.91719156e-01]\n",
      " [ 2.91950133e-01  1.05857621e+00]\n",
      " [-7.49812876e-01  7.14092612e-01]\n",
      " [ 7.06628768e-01  5.29581049e-01]\n",
      " [-1.03635120e+00 -1.13686312e+00]\n",
      " [-6.93083621e-01 -1.11200924e+00]\n",
      " [ 7.45742264e-01 -1.31414321e+00]\n",
      " [-1.80624297e+00  5.08424760e-01]\n",
      " [ 9.85897890e-01  2.55077584e-01]\n",
      " [ 6.05134334e-01  1.35629429e+00]\n",
      " [ 8.83031333e-02  2.84362186e+00]\n",
      " [-5.73714477e-01  3.00917067e-01]\n",
      " [-7.59659257e-01 -4.04778925e-01]\n",
      " [-1.18832882e+00  6.91407826e-01]\n",
      " [-2.30278680e-01  6.02913900e-01]\n",
      " [-3.42223061e-01  1.56738209e+00]\n",
      " [ 1.12534340e+00  1.38852595e+00]\n",
      " [-1.97232225e-01 -1.37579884e+00]\n",
      " [ 2.03557793e-01 -6.19782695e-01]\n",
      " [-2.29915211e+00 -2.35010228e+00]\n",
      " [ 1.70425989e-01 -1.69517971e-01]\n",
      " [-8.96095779e-01 -4.34688433e-01]\n",
      " [ 9.63707214e-01  5.19622446e-01]\n",
      " [-8.30033528e-01  1.90376438e-02]\n",
      " [ 2.05718806e-01 -1.57102288e+00]\n",
      " [-1.08360522e+00 -1.73212809e+00]\n",
      " [ 1.18148766e+00  3.02969581e-01]\n",
      " [-5.74812020e-01 -2.70766647e-01]\n",
      " [ 1.66203338e+00  2.15766998e+00]\n",
      " [-6.85429143e-02  8.10064138e-01]\n",
      " [ 1.54239595e-01  1.35251268e+00]\n",
      " [-1.64414986e+00  4.19853998e-01]\n",
      " [-6.02380486e-02 -4.17866517e-01]\n",
      " [ 9.95324542e-02  7.15003680e-01]\n",
      " [ 9.41788108e-02  8.41490985e-02]\n",
      " [-6.58969959e-01 -1.47776300e+00]\n",
      " [-1.06081587e+00  2.24277598e-01]\n",
      " [ 1.34287939e+00 -3.86853705e-01]\n",
      " [ 2.16522554e+00  9.53970852e-01]\n",
      " [ 1.25888632e-01  1.67842476e+00]\n",
      " [ 7.41547159e-01  9.10372483e-01]\n",
      " [ 1.20061971e+00 -4.29802897e-01]\n",
      " [ 2.17479530e-01 -1.58901093e+00]\n",
      " [ 2.34918223e+00 -1.11857623e+00]\n",
      " [-1.70736492e+00  1.92613720e-01]\n",
      " [-1.29015773e+00 -8.73930717e-01]\n",
      " [ 1.30671560e-01  1.06066689e+00]\n",
      " [ 6.08604658e-01  1.85335549e+00]\n",
      " [-2.94145793e-01  6.95393964e-01]\n",
      " [ 6.60046185e-01 -8.08580680e-01]\n",
      " [ 1.27805710e+00 -8.36541835e-01]\n",
      " [ 4.58313262e-01 -4.81048546e-01]\n",
      " [-1.13111637e+00 -2.83130746e-01]\n",
      " [-5.38316853e-01  1.17749512e+00]\n",
      " [ 1.34472514e-01  4.97500631e-01]\n",
      " [-1.25175707e+00 -1.76053051e+00]\n",
      " [ 9.48886976e-01  3.10130840e-01]\n",
      " [-3.48886054e-01  1.96072158e+00]\n",
      " [ 1.16738566e+00  5.03833034e-01]\n",
      " [-1.37711368e+00 -2.12327997e+00]\n",
      " [-7.85198165e-02  8.87701937e-01]\n",
      " [ 1.40380128e+00 -3.24181778e-01]\n",
      " [ 1.88436417e+00  2.36809769e-01]\n",
      " [-1.87969415e+00  8.60171533e-01]\n",
      " [ 5.35882122e-01  1.29764834e+00]\n",
      " [ 5.99216022e-02 -7.92824188e-01]\n",
      " [-2.61240934e-01  1.90740563e-02]\n",
      " [ 1.22940623e+00 -1.18630414e+00]\n",
      " [ 8.46508659e-03  3.74329507e-01]\n",
      " [ 9.59206678e-01  1.01034683e-02]\n",
      " [ 1.21595890e+00  8.46364464e-01]\n",
      " [-6.27150442e-01 -1.57171620e-01]\n",
      " [-4.34585592e-01  1.14716030e+00]\n",
      " [ 3.22609102e-01 -2.78729734e-01]\n",
      " [-5.03566826e-02 -2.32718006e-01]\n",
      " [-1.12858649e+00  1.21200499e+00]\n",
      " [ 1.53092201e-01 -2.74386076e-01]\n",
      " [ 7.51549850e-01 -1.78507214e+00]\n",
      " [ 4.56671669e-01 -8.79942870e-01]\n",
      " [-7.15935053e-01  1.41265451e+00]\n",
      " [ 1.19881275e+00  2.12365422e-01]\n",
      " [-4.48327715e-01  1.62056862e+00]\n",
      " [-1.63992618e+00  9.75489151e-01]\n",
      " [ 1.60177261e-01  7.88345219e-01]\n",
      " [-7.59326956e-02 -7.72580380e-01]\n",
      " [ 1.26337871e-01  1.23485765e+00]\n",
      " [ 1.45055027e+00 -1.30135993e+00]\n",
      " [ 2.83409700e-01  5.48825137e-01]\n",
      " [-7.90246160e-01  7.46063824e-01]\n",
      " [-1.01173603e+00  2.74100884e-01]\n",
      " [ 1.90134532e+00  1.30873872e-01]\n",
      " [-1.26486033e+00  1.05914958e+00]\n",
      " [-1.30707009e-01 -1.05638557e-01]\n",
      " [ 6.93175106e-01  7.46767720e-01]\n",
      " [-1.43744126e+00 -9.64384884e-01]\n",
      " [ 1.40766197e+00 -1.02608914e+00]\n",
      " [ 1.23330946e+00 -1.05070453e+00]\n",
      " [ 1.10069876e+00  1.46290475e+00]\n",
      " [ 3.97140639e-01 -5.97799562e-01]\n",
      " [ 8.24763832e-01 -3.79227401e-01]\n",
      " [-8.23944929e-01  2.18589399e-01]\n",
      " [-1.23678874e+00 -9.79713396e-02]\n",
      " [ 1.51074834e+00 -1.08767353e+00]\n",
      " [ 1.93767695e-01  7.21344669e-01]\n",
      " [ 1.56198238e+00 -3.58834587e-01]\n",
      " [-1.05357967e+00 -3.37860133e-02]\n",
      " [ 1.32069665e-01 -8.35149277e-01]\n",
      " [-9.93008969e-03  1.07521198e+00]\n",
      " [-3.00307677e-01  4.52232072e-01]\n",
      " [ 1.49238909e+00  6.21516496e-01]\n",
      " [ 1.50328846e+00  7.84227063e-01]\n",
      " [-8.47347929e-01  1.79506482e+00]\n",
      " [-9.39052694e-01 -8.74876266e-01]\n",
      " [ 2.94046532e+00 -1.97124348e+00]\n",
      " [ 1.65445954e+00 -8.05816133e-01]\n",
      " [ 6.98468832e-02  1.49028002e+00]\n",
      " [ 2.16134647e+00  7.30577031e-01]\n",
      " [ 2.73329965e-01 -2.43689840e-01]\n",
      " [-1.79669205e-01 -1.50110748e+00]\n",
      " [ 3.31831888e-02  5.04424398e-01]\n",
      " [-1.14978185e+00  2.26231396e-01]\n",
      " [ 4.89081555e-01 -9.60950669e-01]\n",
      " [ 1.12105756e+00 -1.26298647e+00]\n",
      " [ 1.02992174e+00  9.20670630e-01]\n",
      " [-7.98530830e-01 -1.83244636e+00]\n",
      " [-1.11801409e-01 -2.54196161e-01]\n",
      " [ 6.39780162e-01  4.58164308e-01]\n",
      " [ 1.33544697e+00 -1.57231300e-01]\n",
      " [ 2.02125198e+00  2.31096924e+00]\n",
      " [-3.60419864e-01 -1.51192180e+00]\n",
      " [ 2.58765263e-01 -2.46514968e+00]\n",
      " [-1.10693281e+00  1.76792886e+00]\n",
      " [-6.59790668e-02 -1.93827968e+00]\n",
      " [-7.25195256e-01  6.45587477e-01]\n",
      " [-7.96210860e-01 -7.94203429e-01]\n",
      " [-2.07979106e-02 -9.71482133e-01]\n",
      " [ 4.63227154e-01  6.95421671e-01]\n",
      " [-8.87375333e-01 -5.99103209e-01]\n",
      " [-1.84146025e+00 -8.47412177e-01]\n",
      " [-8.74966475e-01 -5.35620599e-02]\n",
      " [ 8.44210390e-02 -2.37297277e-01]\n",
      " [ 1.97098592e+00  1.45770696e+00]\n",
      " [ 6.19478885e-01  1.19815536e-01]\n",
      " [ 2.92259889e-01 -1.50016123e-01]\n",
      " [-8.51896471e-02  1.46858135e+00]\n",
      " [ 1.59819527e-01 -2.82406899e-01]\n",
      " [-9.25915504e-01  2.41149231e-01]\n",
      " [-2.35207245e+00 -2.74749847e-01]\n",
      " [-8.33166673e-01 -4.87520036e-02]\n",
      " [-3.12605936e-01  1.13286928e-01]\n",
      " [ 1.35262517e+00 -1.20547859e+00]\n",
      " [ 9.58659251e-01  8.34883016e-01]\n",
      " [ 3.83804606e-01 -4.70756426e-01]\n",
      " [-2.17784194e-02  8.78473825e-02]\n",
      " [-4.79329683e-01 -7.29574089e-01]\n",
      " [-9.42120611e-01  8.70722205e-01]\n",
      " [ 2.10051575e+00 -1.06608344e+00]\n",
      " [ 1.47811295e+00 -3.68035532e-01]\n",
      " [ 4.20313888e-01 -2.56262081e-01]\n",
      " [-3.53955697e-01  1.42932727e-01]]\n"
     ]
    }
   ],
   "source": [
    "a = np.random.randn(400,2)\n",
    "print(a)"
   ]
  },
  {
   "cell_type": "code",
   "execution_count": 56,
   "id": "4cb1168d",
   "metadata": {},
   "outputs": [
    {
     "name": "stdout",
     "output_type": "stream",
     "text": [
      "[0.04362634 0.05032051] (2,)\n"
     ]
    }
   ],
   "source": [
    "m = a.mean(0)\n",
    "# a.mean(0) -> irá clacular a média de cada coluna\n",
    "# a.mean(1) -> irá calcular a média de cada linha\n",
    "print(m, m.shape)"
   ]
  },
  {
   "cell_type": "code",
   "execution_count": 57,
   "id": "d7ddb979",
   "metadata": {},
   "outputs": [
    {
     "data": {
      "image/png": "[encoded data removed]",
      "text/plain": [
       "<Figure size 432x288 with 1 Axes>"
      ]
     },
     "metadata": {
      "needs_background": "light"
     },
     "output_type": "display_data"
    }
   ],
   "source": [
    "# [ primeiraLinha : ultimaLinha , coluna ]\n",
    "plt.plot(a[:,0], a[:,1], 'o', markersize=5, alpha=0.5)\n",
    "plt.plot(m[0], m[1], 'ro', markersize=10)\n",
    "plt.show()"
   ]
  },
  {
   "cell_type": "markdown",
   "id": "bb17b85a",
   "metadata": {},
   "source": [
    "## Outras Operações com Arrays"
   ]
  },
  {
   "cell_type": "code",
   "execution_count": 58,
   "id": "c98a0cd8",
   "metadata": {},
   "outputs": [
    {
     "data": {
      "text/plain": [
       "array([[0, 0, 0],\n",
       "       [0, 1, 0],\n",
       "       [0, 0, 2]])"
      ]
     },
     "execution_count": 58,
     "metadata": {},
     "output_type": "execute_result"
    }
   ],
   "source": [
    "# Slicing\n",
    "a = np.diag(np.arange(3))\n",
    "a"
   ]
  },
  {
   "cell_type": "code",
   "execution_count": 59,
   "id": "708b3535",
   "metadata": {},
   "outputs": [
    {
     "data": {
      "text/plain": [
       "1"
      ]
     },
     "execution_count": 59,
     "metadata": {},
     "output_type": "execute_result"
    }
   ],
   "source": [
    "a[1,1]"
   ]
  },
  {
   "cell_type": "code",
   "execution_count": 60,
   "id": "1c4110e8",
   "metadata": {},
   "outputs": [
    {
     "data": {
      "text/plain": [
       "array([0, 1, 0])"
      ]
     },
     "execution_count": 60,
     "metadata": {},
     "output_type": "execute_result"
    }
   ],
   "source": [
    "a[1]"
   ]
  },
  {
   "cell_type": "code",
   "execution_count": 61,
   "id": "4d12fe7f",
   "metadata": {},
   "outputs": [
    {
     "data": {
      "text/plain": [
       "array([0, 1, 2, 3, 4, 5, 6, 7, 8, 9])"
      ]
     },
     "execution_count": 61,
     "metadata": {},
     "output_type": "execute_result"
    }
   ],
   "source": [
    "b = np.arange(10)\n",
    "b"
   ]
  },
  {
   "cell_type": "code",
   "execution_count": 62,
   "id": "66d812f5",
   "metadata": {},
   "outputs": [
    {
     "data": {
      "text/plain": [
       "array([2, 5, 8])"
      ]
     },
     "execution_count": 62,
     "metadata": {},
     "output_type": "execute_result"
    }
   ],
   "source": [
    "# [start:end:step]\n",
    "b[2:9:3]"
   ]
  },
  {
   "cell_type": "code",
   "execution_count": 63,
   "id": "9cbb901b",
   "metadata": {},
   "outputs": [
    {
     "data": {
      "text/plain": [
       "array([False,  True, False,  True])"
      ]
     },
     "execution_count": 63,
     "metadata": {},
     "output_type": "execute_result"
    }
   ],
   "source": [
    "# Comparação\n",
    "a = np.array([1, 2, 3, 4])\n",
    "b = np.array([4, 2, 2, 4])\n",
    "a == b"
   ]
  },
  {
   "cell_type": "code",
   "execution_count": 64,
   "id": "3db17632",
   "metadata": {},
   "outputs": [
    {
     "data": {
      "text/plain": [
       "False"
      ]
     },
     "execution_count": 64,
     "metadata": {},
     "output_type": "execute_result"
    }
   ],
   "source": [
    "# Comparação\n",
    "np.array_equal(a,b)"
   ]
  },
  {
   "cell_type": "code",
   "execution_count": 65,
   "id": "5ad99fe4",
   "metadata": {},
   "outputs": [
    {
     "data": {
      "text/plain": [
       "1"
      ]
     },
     "execution_count": 65,
     "metadata": {},
     "output_type": "execute_result"
    }
   ],
   "source": [
    "# Mínimo\n",
    "a.min()"
   ]
  },
  {
   "cell_type": "code",
   "execution_count": 66,
   "id": "6e1dde75",
   "metadata": {},
   "outputs": [
    {
     "data": {
      "text/plain": [
       "4"
      ]
     },
     "execution_count": 66,
     "metadata": {},
     "output_type": "execute_result"
    }
   ],
   "source": [
    "# Máximo\n",
    "a.max()"
   ]
  },
  {
   "cell_type": "code",
   "execution_count": 67,
   "id": "3052bde8",
   "metadata": {},
   "outputs": [
    {
     "data": {
      "text/plain": [
       "array([2.5, 3.5, 4.5])"
      ]
     },
     "execution_count": 67,
     "metadata": {},
     "output_type": "execute_result"
    }
   ],
   "source": [
    "# Somando elementos \n",
    "np.array([1, 2, 3]) + 1.5"
   ]
  },
  {
   "cell_type": "code",
   "execution_count": 68,
   "id": "9cacdf8e",
   "metadata": {},
   "outputs": [
    {
     "data": {
      "text/plain": [
       "array([1., 2., 2., 2., 4., 4.])"
      ]
     },
     "execution_count": 68,
     "metadata": {},
     "output_type": "execute_result"
    }
   ],
   "source": [
    "# Usando método around\n",
    "a = np.array([1.2, 1.5, 1.6, 2.5, 3.5, 4.5])\n",
    "b = np.around(a)\n",
    "b"
   ]
  },
  {
   "cell_type": "code",
   "execution_count": 69,
   "id": "9ef836fb",
   "metadata": {},
   "outputs": [
    {
     "data": {
      "text/plain": [
       "array([1, 2, 3, 4])"
      ]
     },
     "execution_count": 69,
     "metadata": {},
     "output_type": "execute_result"
    }
   ],
   "source": [
    "# Criando um array\n",
    "B = np.array([1, 2, 3, 4])\n",
    "B"
   ]
  },
  {
   "cell_type": "code",
   "execution_count": 70,
   "id": "2087271b",
   "metadata": {},
   "outputs": [
    {
     "data": {
      "text/plain": [
       "array([1, 2, 3, 4])"
      ]
     },
     "execution_count": 70,
     "metadata": {},
     "output_type": "execute_result"
    }
   ],
   "source": [
    "# Copiando um array \n",
    "C = B.flatten()\n",
    "C"
   ]
  },
  {
   "cell_type": "code",
   "execution_count": 71,
   "id": "296a62e7",
   "metadata": {},
   "outputs": [
    {
     "name": "stdout",
     "output_type": "stream",
     "text": [
      "[[1]\n",
      " [2]\n",
      " [3]]\n",
      "[[1 2 3]]\n"
     ]
    },
    {
     "data": {
      "text/plain": [
       "((3, 1), (1, 3))"
      ]
     },
     "execution_count": 71,
     "metadata": {},
     "output_type": "execute_result"
    }
   ],
   "source": [
    "# Criando um array\n",
    "v = np.array([1, 2, 3])\n",
    "print(v[:,np.newaxis])\n",
    "print(v[np.newaxis,:])\n",
    "v[:,np.newaxis].shape, v[np.newaxis,:].shape"
   ]
  },
  {
   "cell_type": "code",
   "execution_count": 72,
   "id": "26b978a0",
   "metadata": {},
   "outputs": [
    {
     "data": {
      "text/plain": [
       "array([1, 1, 1, 2, 2, 2, 3, 3, 3])"
      ]
     },
     "execution_count": 72,
     "metadata": {},
     "output_type": "execute_result"
    }
   ],
   "source": [
    "# Repetindo os elementos de um array\n",
    "np.repeat(v, 3)"
   ]
  },
  {
   "cell_type": "code",
   "execution_count": 73,
   "id": "ada5a3a6",
   "metadata": {},
   "outputs": [
    {
     "data": {
      "text/plain": [
       "array([1, 2, 3, 1, 2, 3, 1, 2, 3])"
      ]
     },
     "execution_count": 73,
     "metadata": {},
     "output_type": "execute_result"
    }
   ],
   "source": [
    "# Repetindo os elementos de um array\n",
    "np.tile(v, 3)"
   ]
  },
  {
   "cell_type": "code",
   "execution_count": 74,
   "id": "3ac8bca2",
   "metadata": {},
   "outputs": [],
   "source": [
    "# Criando um array\n",
    "w = np.array([5, 6])"
   ]
  },
  {
   "cell_type": "code",
   "execution_count": 79,
   "id": "a6619ca7",
   "metadata": {},
   "outputs": [
    {
     "data": {
      "text/plain": [
       "array([1, 2, 3, 5, 6])"
      ]
     },
     "execution_count": 79,
     "metadata": {},
     "output_type": "execute_result"
    }
   ],
   "source": [
    "# Concatenando\n",
    "''' a = np.array([[1, 2], [3, 4]])\n",
    "    b = np.array([[5, 6]])\n",
    "    \n",
    "np.concatenate((a, b), axis=0)\n",
    "array([[1, 2],\n",
    "       [3, 4],\n",
    "       [5, 6]])\n",
    "       \n",
    "np.concatenate((a, b.T), axis=1)\n",
    "array([[1, 2, 5],\n",
    "       [3, 4, 6]])\n",
    "       \n",
    "np.concatenate((a, b), axis=None)\n",
    "array([1, 2, 3, 4, 5, 6])'''\n",
    "np.concatenate((v, w), axis=0)"
   ]
  },
  {
   "cell_type": "code",
   "execution_count": null,
   "id": "616a7fca",
   "metadata": {},
   "outputs": [],
   "source": [
    "# Copiando um array\n",
    "r = np.copy(v)\n",
    "r"
   ]
  },
  {
   "cell_type": "code",
   "execution_count": null,
   "id": "5bdc344f",
   "metadata": {},
   "outputs": [],
   "source": []
  }
 ],
 "metadata": {
  "kernelspec": {
   "display_name": "Python 3",
   "language": "python",
   "name": "python3"
  },
  "language_info": {
   "codemirror_mode": {
    "name": "ipython",
    "version": 3
   },
   "file_extension": ".py",
   "mimetype": "text/x-python",
   "name": "python",
   "nbconvert_exporter": "python",
   "pygments_lexer": "ipython3",
   "version": "3.8.11"
  }
 },
 "nbformat": 4,
 "nbformat_minor": 5
}
