{
 "cells": [
  {
   "cell_type": "code",
   "execution_count": 2,
   "metadata": {},
   "outputs": [],
   "source": [
    "# Install pymongo package to connect to MongoDB database\n",
    "!pip install -q pymongo\n",
    "# Import MongoCliente fuction from pymongo\n",
    "from pymongo import MongoClient"
   ]
  },
  {
   "cell_type": "code",
   "execution_count": 3,
   "metadata": {},
   "outputs": [
    {
     "data": {
      "text/plain": [
       "pymongo.mongo_client.MongoClient"
      ]
     },
     "execution_count": 3,
     "metadata": {},
     "output_type": "execute_result"
    }
   ],
   "source": [
    "# Connecting to MongoDB\n",
    "# store the connection information in the connect object\n",
    "connect = MongoClient('localhost', 27017)\n",
    "type(connect)"
   ]
  },
  {
   "cell_type": "code",
   "execution_count": 4,
   "metadata": {},
   "outputs": [
    {
     "data": {
      "text/plain": [
       "pymongo.database.Database"
      ]
     },
     "execution_count": 4,
     "metadata": {},
     "output_type": "execute_result"
    }
   ],
   "source": [
    "# A single instance of MongoDB can support multiple databases.\n",
    "# Let's create the registration_db database\n",
    "# From the connection, we create registrations_db and store it in db\n",
    "db = connect.registration_db\n",
    "type(db)"
   ]
  },
  {
   "cell_type": "code",
   "execution_count": 5,
   "metadata": {},
   "outputs": [
    {
     "data": {
      "text/plain": [
       "pymongo.collection.Collection"
      ]
     },
     "execution_count": 5,
     "metadata": {},
     "output_type": "execute_result"
    }
   ],
   "source": [
    "# A collection(table in SQL) is a group of documents stored in MongoDB\n",
    "collection = db.registration_db\n",
    "type(collection)"
   ]
  },
  {
   "cell_type": "markdown",
   "metadata": {},
   "source": [
    "An important note about collections (and databases) in MongoDB is that they are created later - \n",
    "none of the above commands actually performed any operation on the MongoDB server. \n",
    "Collections and databases are created when the first document is inserted.\n",
    "\n",
    "Data in MongoDB is represented (and stored) using JSON (Java Script Object Notation) documents. \n",
    "With PyMongo we use dictionaries to represent documents."
   ]
  },
  {
   "cell_type": "code",
   "execution_count": 9,
   "metadata": {},
   "outputs": [
    {
     "data": {
      "text/plain": [
       "dict"
      ]
     },
     "execution_count": 9,
     "metadata": {},
     "output_type": "execute_result"
    }
   ],
   "source": [
    "import datetime\n",
    "doc1 = {\"code\": \"ID-9987725\", \"prod_name\": \"refrigerator\", \"brands\": [\"brastemp\", \"consul\", \"elecrolux\"],\n",
    "        \"data_registration\": datetime.datetime.utcnow()}\n",
    "type(doc1)"
   ]
  },
  {
   "cell_type": "code",
   "execution_count": 8,
   "metadata": {},
   "outputs": [],
   "source": [
    "# Creating a docs collection\n",
    "collection = db.docs"
   ]
  },
  {
   "cell_type": "code",
   "execution_count": 10,
   "metadata": {},
   "outputs": [],
   "source": [
    "# Inserting doc1 from the collection created earlier, and storing the info in the doc_id object\n",
    "doc_id = collection.insert_one(doc1)"
   ]
  },
  {
   "cell_type": "code",
   "execution_count": 11,
   "metadata": {},
   "outputs": [
    {
     "data": {
      "text/plain": [
       "ObjectId('61559878b271c4b134b96c28')"
      ]
     },
     "execution_count": 11,
     "metadata": {},
     "output_type": "execute_result"
    }
   ],
   "source": [
    "doc_id.inserted_id"
   ]
  },
  {
   "cell_type": "code",
   "execution_count": 13,
   "metadata": {},
   "outputs": [
    {
     "data": {
      "text/plain": [
       "<pymongo.results.InsertOneResult at 0x7ff5a3f87aa0>"
      ]
     },
     "execution_count": 13,
     "metadata": {},
     "output_type": "execute_result"
    }
   ],
   "source": [
    "# When a document is created, a special key, \"_id\", is automatically added if the document is still\n",
    "# does not contain an \"_id\" key.\n",
    "doc_id"
   ]
  },
  {
   "cell_type": "code",
   "execution_count": 21,
   "metadata": {},
   "outputs": [],
   "source": [
    "# Already having a collection called docs, we will add more docs\n",
    "doc2 = {\"code\": \"ID-2209876\",\n",
    "        \"prod_name\": \"Television\",\n",
    "        \"brands\": [\"samsung\", \"panasonic\", \"lg\"],\n",
    "        \"data_registration\": datetime.datetime.utcnow()}"
   ]
  },
  {
   "cell_type": "code",
   "execution_count": 22,
   "metadata": {},
   "outputs": [],
   "source": [
    "collection = db.docs"
   ]
  },
  {
   "cell_type": "code",
   "execution_count": 23,
   "metadata": {},
   "outputs": [],
   "source": [
    "doc_id = collection.insert_one(doc2)"
   ]
  },
  {
   "cell_type": "code",
   "execution_count": 24,
   "metadata": {},
   "outputs": [
    {
     "data": {
      "text/plain": [
       "ObjectId('61559bb7b271c4b134b96c2a')"
      ]
     },
     "execution_count": 24,
     "metadata": {},
     "output_type": "execute_result"
    }
   ],
   "source": [
    "doc_id.inserted_id"
   ]
  },
  {
   "cell_type": "code",
   "execution_count": 25,
   "metadata": {},
   "outputs": [
    {
     "data": {
      "text/plain": [
       "<pymongo.results.InsertOneResult at 0x7ff5b80e6910>"
      ]
     },
     "execution_count": 25,
     "metadata": {},
     "output_type": "execute_result"
    }
   ],
   "source": [
    "doc_id"
   ]
  },
  {
   "cell_type": "code",
   "execution_count": 26,
   "metadata": {},
   "outputs": [
    {
     "data": {
      "text/plain": [
       "{'_id': ObjectId('61559a4eb271c4b134b96c29'),\n",
       " 'code': 'ID-2209876',\n",
       " 'prod_name': 'Television',\n",
       " 'brands': ['samsung', 'panasonic', 'lg'],\n",
       " 'data_registration': datetime.datetime(2021, 9, 30, 11, 4, 33, 150000)}"
      ]
     },
     "execution_count": 26,
     "metadata": {},
     "output_type": "execute_result"
    }
   ],
   "source": [
    "# In the docs collection, we look for a doc\n",
    "collection.find_one({\"prod_name\": \"Television\"})"
   ]
  },
  {
   "cell_type": "code",
   "execution_count": 27,
   "metadata": {},
   "outputs": [
    {
     "name": "stdout",
     "output_type": "stream",
     "text": [
      "{'_id': ObjectId('61559878b271c4b134b96c28'), 'code': 'ID-9987725', 'prod_name': 'refrigerator', 'brands': ['brastemp', 'consul', 'elecrolux'], 'data_registration': datetime.datetime(2021, 9, 30, 10, 55, 26, 450000)}\n",
      "{'_id': ObjectId('61559a4eb271c4b134b96c29'), 'code': 'ID-2209876', 'prod_name': 'Television', 'brands': ['samsung', 'panasonic', 'lg'], 'data_registration': datetime.datetime(2021, 9, 30, 11, 4, 33, 150000)}\n",
      "{'_id': ObjectId('61559bb7b271c4b134b96c2a'), 'code': 'ID-2209876', 'prod_name': 'Television', 'brands': ['samsung', 'panasonic', 'lg'], 'data_registration': datetime.datetime(2021, 9, 30, 11, 12, 54, 405000)}\n"
     ]
    }
   ],
   "source": [
    "# The find() function returns a cursor and we can then browse the data\n",
    "for doc in collection.find():\n",
    "    print(doc)"
   ]
  },
  {
   "cell_type": "code",
   "execution_count": 28,
   "metadata": {},
   "outputs": [
    {
     "data": {
      "text/plain": [
       "'registration_db'"
      ]
     },
     "execution_count": 28,
     "metadata": {},
     "output_type": "execute_result"
    }
   ],
   "source": [
    "# Checking the database name\n",
    "db.name"
   ]
  },
  {
   "cell_type": "code",
   "execution_count": 29,
   "metadata": {},
   "outputs": [
    {
     "data": {
      "text/plain": [
       "['docs']"
      ]
     },
     "execution_count": 29,
     "metadata": {},
     "output_type": "execute_result"
    }
   ],
   "source": [
    "# Listing available collections\n",
    "# db.collection_names()\n",
    "db.list_collection_names()"
   ]
  },
  {
   "cell_type": "code",
   "execution_count": null,
   "metadata": {},
   "outputs": [],
   "source": []
  }
 ],
 "metadata": {
  "kernelspec": {
   "display_name": "Python 3",
   "language": "python",
   "name": "python3"
  },
  "language_info": {
   "codemirror_mode": {
    "name": "ipython",
    "version": 3
   },
   "file_extension": ".py",
   "mimetype": "text/x-python",
   "name": "python",
   "nbconvert_exporter": "python",
   "pygments_lexer": "ipython3",
   "version": "3.7.6"
  }
 },
 "nbformat": 4,
 "nbformat_minor": 4
}
