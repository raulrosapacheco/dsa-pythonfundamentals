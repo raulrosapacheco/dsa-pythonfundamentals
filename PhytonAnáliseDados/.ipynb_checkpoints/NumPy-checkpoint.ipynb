{
 "cells": [
  {
   "cell_type": "code",
   "execution_count": 154,
   "id": "bf282d2e",
   "metadata": {},
   "outputs": [],
   "source": [
    "import numpy as np"
   ]
  },
  {
   "cell_type": "code",
   "execution_count": 155,
   "id": "fa0bdce0",
   "metadata": {},
   "outputs": [
    {
     "data": {
      "text/plain": [
       "'1.19.5'"
      ]
     },
     "execution_count": 155,
     "metadata": {},
     "output_type": "execute_result"
    }
   ],
   "source": [
    "np.__version__"
   ]
  },
  {
   "cell_type": "markdown",
   "id": "e2ebd1b2",
   "metadata": {},
   "source": [
    "# NumPy\n",
    "\n",
    "www.numpy.org/\n",
    "\n",
    "Pacote para computação matemática em Python.\n",
    "Para importar numpy, utilize: import numpy as np\n",
    "\n",
    "Você também pode utilizar: from numpy import * . Isso evitará a utilização de np., mas este comando importará todos os módulos do NumPy.\n",
    "\n",
    "Para atualizar o NumPy, abra o prompt de comando e digite: pip install numpy -U\n",
    "\n",
    "### Um array NumPy é um Conjunto de valores, todos do mesmo tipo e indexados por uma tupla de valores não-negativos. É muito mais eficiente do que usar funções built-in"
   ]
  },
  {
   "cell_type": "markdown",
   "id": "7d901a0d",
   "metadata": {},
   "source": [
    "## Criando Arrays"
   ]
  },
  {
   "cell_type": "code",
   "execution_count": 156,
   "id": "7b495853",
   "metadata": {},
   "outputs": [
    {
     "name": "stdout",
     "output_type": "stream",
     "text": [
      "Help on built-in function array in module numpy:\n",
      "\n",
      "array(...)\n",
      "    array(object, dtype=None, *, copy=True, order='K', subok=False, ndmin=0)\n",
      "    \n",
      "    Create an array.\n",
      "    \n",
      "    Parameters\n",
      "    ----------\n",
      "    object : array_like\n",
      "        An array, any object exposing the array interface, an object whose\n",
      "        __array__ method returns an array, or any (nested) sequence.\n",
      "    dtype : data-type, optional\n",
      "        The desired data-type for the array.  If not given, then the type will\n",
      "        be determined as the minimum type required to hold the objects in the\n",
      "        sequence.\n",
      "    copy : bool, optional\n",
      "        If true (default), then the object is copied.  Otherwise, a copy will\n",
      "        only be made if __array__ returns a copy, if obj is a nested sequence,\n",
      "        or if a copy is needed to satisfy any of the other requirements\n",
      "        (`dtype`, `order`, etc.).\n",
      "    order : {'K', 'A', 'C', 'F'}, optional\n",
      "        Specify the memory layout of the array. If object is not an array, the\n",
      "        newly created array will be in C order (row major) unless 'F' is\n",
      "        specified, in which case it will be in Fortran order (column major).\n",
      "        If object is an array the following holds.\n",
      "    \n",
      "        ===== ========= ===================================================\n",
      "        order  no copy                     copy=True\n",
      "        ===== ========= ===================================================\n",
      "        'K'   unchanged F & C order preserved, otherwise most similar order\n",
      "        'A'   unchanged F order if input is F and not C, otherwise C order\n",
      "        'C'   C order   C order\n",
      "        'F'   F order   F order\n",
      "        ===== ========= ===================================================\n",
      "    \n",
      "        When ``copy=False`` and a copy is made for other reasons, the result is\n",
      "        the same as if ``copy=True``, with some exceptions for `A`, see the\n",
      "        Notes section. The default order is 'K'.\n",
      "    subok : bool, optional\n",
      "        If True, then sub-classes will be passed-through, otherwise\n",
      "        the returned array will be forced to be a base-class array (default).\n",
      "    ndmin : int, optional\n",
      "        Specifies the minimum number of dimensions that the resulting\n",
      "        array should have.  Ones will be pre-pended to the shape as\n",
      "        needed to meet this requirement.\n",
      "    \n",
      "    Returns\n",
      "    -------\n",
      "    out : ndarray\n",
      "        An array object satisfying the specified requirements.\n",
      "    \n",
      "    See Also\n",
      "    --------\n",
      "    empty_like : Return an empty array with shape and type of input.\n",
      "    ones_like : Return an array of ones with shape and type of input.\n",
      "    zeros_like : Return an array of zeros with shape and type of input.\n",
      "    full_like : Return a new array with shape of input filled with value.\n",
      "    empty : Return a new uninitialized array.\n",
      "    ones : Return a new array setting values to one.\n",
      "    zeros : Return a new array setting values to zero.\n",
      "    full : Return a new array of given shape filled with value.\n",
      "    \n",
      "    \n",
      "    Notes\n",
      "    -----\n",
      "    When order is 'A' and `object` is an array in neither 'C' nor 'F' order,\n",
      "    and a copy is forced by a change in dtype, then the order of the result is\n",
      "    not necessarily 'C' as expected. This is likely a bug.\n",
      "    \n",
      "    Examples\n",
      "    --------\n",
      "    >>> np.array([1, 2, 3])\n",
      "    array([1, 2, 3])\n",
      "    \n",
      "    Upcasting:\n",
      "    \n",
      "    >>> np.array([1, 2, 3.0])\n",
      "    array([ 1.,  2.,  3.])\n",
      "    \n",
      "    More than one dimension:\n",
      "    \n",
      "    >>> np.array([[1, 2], [3, 4]])\n",
      "    array([[1, 2],\n",
      "           [3, 4]])\n",
      "    \n",
      "    Minimum dimensions 2:\n",
      "    \n",
      "    >>> np.array([1, 2, 3], ndmin=2)\n",
      "    array([[1, 2, 3]])\n",
      "    \n",
      "    Type provided:\n",
      "    \n",
      "    >>> np.array([1, 2, 3], dtype=complex)\n",
      "    array([ 1.+0.j,  2.+0.j,  3.+0.j])\n",
      "    \n",
      "    Data-type consisting of more than one element:\n",
      "    \n",
      "    >>> x = np.array([(1,2),(3,4)],dtype=[('a','<i4'),('b','<i4')])\n",
      "    >>> x['a']\n",
      "    array([1, 3])\n",
      "    \n",
      "    Creating an array from sub-classes:\n",
      "    \n",
      "    >>> np.array(np.mat('1 2; 3 4'))\n",
      "    array([[1, 2],\n",
      "           [3, 4]])\n",
      "    \n",
      "    >>> np.array(np.mat('1 2; 3 4'), subok=True)\n",
      "    matrix([[1, 2],\n",
      "            [3, 4]])\n",
      "\n"
     ]
    }
   ],
   "source": [
    "help(np.array)"
   ]
  },
  {
   "cell_type": "code",
   "execution_count": 157,
   "id": "f12c5a5b",
   "metadata": {},
   "outputs": [
    {
     "name": "stdout",
     "output_type": "stream",
     "text": [
      "[0 1 2 3 4 5 6 7 8]\n"
     ]
    },
    {
     "data": {
      "text/plain": [
       "numpy.ndarray"
      ]
     },
     "execution_count": 157,
     "metadata": {},
     "output_type": "execute_result"
    }
   ],
   "source": [
    "# Criando um array apartir de uma lista:\n",
    "vetor1 = np.array([0, 1, 2, 3, 4, 5, 6, 7, 8])\n",
    "print(vetor1)\n",
    "type(vetor1)\n",
    "# Um objeto do tipo ndarray é um recipiente multidimensional de itens do mesmo tipo e tamanho."
   ]
  },
  {
   "cell_type": "code",
   "execution_count": 158,
   "id": "b0affe3d",
   "metadata": {},
   "outputs": [
    {
     "data": {
      "text/plain": [
       "array([ 0,  1,  3,  6, 10, 15, 21, 28, 36])"
      ]
     },
     "execution_count": 158,
     "metadata": {},
     "output_type": "execute_result"
    }
   ],
   "source": [
    "# Calculando a soma acumulada através do método cumsum()\n",
    "vetor1.cumsum()"
   ]
  },
  {
   "cell_type": "code",
   "execution_count": 159,
   "id": "a5abaf4d",
   "metadata": {},
   "outputs": [
    {
     "name": "stdout",
     "output_type": "stream",
     "text": [
      "[100   1   2   3   4   5   6   7   8]\n"
     ]
    }
   ],
   "source": [
    "# Alterando elemento do array\n",
    "vetor1[0] = 100\n",
    "print(vetor1)"
   ]
  },
  {
   "cell_type": "code",
   "execution_count": 160,
   "id": "9e3ab6da",
   "metadata": {},
   "outputs": [
    {
     "ename": "ValueError",
     "evalue": "invalid literal for int() with base 10: 'Novo elemento'",
     "output_type": "error",
     "traceback": [
      "\u001b[0;31m---------------------------------------------------------------------------\u001b[0m",
      "\u001b[0;31mValueError\u001b[0m                                Traceback (most recent call last)",
      "\u001b[0;32m<ipython-input-160-7bca67fc1d53>\u001b[0m in \u001b[0;36m<module>\u001b[0;34m\u001b[0m\n\u001b[1;32m      1\u001b[0m \u001b[0;31m# não é possível incluir elemento de outro tipo\u001b[0m\u001b[0;34m\u001b[0m\u001b[0;34m\u001b[0m\u001b[0;34m\u001b[0m\u001b[0m\n\u001b[0;32m----> 2\u001b[0;31m \u001b[0mvetor1\u001b[0m\u001b[0;34m[\u001b[0m\u001b[0;36m0\u001b[0m\u001b[0;34m]\u001b[0m \u001b[0;34m=\u001b[0m \u001b[0;34m'Novo elemento'\u001b[0m\u001b[0;34m\u001b[0m\u001b[0;34m\u001b[0m\u001b[0m\n\u001b[0m",
      "\u001b[0;31mValueError\u001b[0m: invalid literal for int() with base 10: 'Novo elemento'"
     ]
    }
   ],
   "source": [
    "# não é possível incluir elemento de outro tipo\n",
    "vetor1[0] = 'Novo elemento'"
   ]
  },
  {
   "cell_type": "code",
   "execution_count": 161,
   "id": "488c9f4c",
   "metadata": {},
   "outputs": [
    {
     "name": "stdout",
     "output_type": "stream",
     "text": [
      "(9,)\n"
     ]
    }
   ],
   "source": [
    "# Formato do array \n",
    "print(vetor1.shape)\n",
    "# array com uma dimensão e 9 elementos nessa dimensão"
   ]
  },
  {
   "cell_type": "code",
   "execution_count": 162,
   "id": "da420adf",
   "metadata": {},
   "outputs": [
    {
     "name": "stdout",
     "output_type": "stream",
     "text": [
      "[0.  0.5 1.  1.5 2.  2.5 3.  3.5 4. ]\n",
      "(9,)\n",
      "float64\n"
     ]
    }
   ],
   "source": [
    "# A função arange cria um vetor contendo uma progressão aritmética a partir de um intervalo - start, stop, step\n",
    "vetor2 = np.arange(0., 4.5, .5)\n",
    "print(vetor2)\n",
    "# Outra forma de verificar o formato do array\n",
    "print(np.shape(vetor2))\n",
    "# Verificando o tipo de dado no array\n",
    "print(vetor2.dtype)"
   ]
  },
  {
   "cell_type": "code",
   "execution_count": 163,
   "id": "315e6bcd",
   "metadata": {},
   "outputs": [
    {
     "name": "stdout",
     "output_type": "stream",
     "text": [
      "[1.   1.25 1.5  1.75 2.   2.25 2.5  2.75 3.   3.25 3.5  3.75 4.   4.25\n",
      " 4.5  4.75 5.   5.25 5.5  5.75 6.   6.25 6.5  6.75 7.   7.25 7.5  7.75\n",
      " 8.   8.25 8.5  8.75 9.   9.25 9.5  9.75]\n"
     ]
    }
   ],
   "source": [
    "# Criando um novo array\n",
    "x = np.arange(1, 10, 0.25)\n",
    "print(x)"
   ]
  },
  {
   "cell_type": "code",
   "execution_count": 164,
   "id": "aa148db9",
   "metadata": {},
   "outputs": [
    {
     "name": "stdout",
     "output_type": "stream",
     "text": [
      "[0. 0. 0. 0. 0. 0. 0. 0. 0. 0.]\n"
     ]
    }
   ],
   "source": [
    "# Criando um array de zero com 10 elementos\n",
    "print(np.zeros(10))"
   ]
  },
  {
   "cell_type": "code",
   "execution_count": 165,
   "id": "25ecfbf3",
   "metadata": {},
   "outputs": [
    {
     "name": "stdout",
     "output_type": "stream",
     "text": [
      "[[1. 0. 0.]\n",
      " [0. 1. 0.]\n",
      " [0. 0. 1.]]\n"
     ]
    }
   ],
   "source": [
    "# Criando um novo array retornando 1 em diagonal principal e zeros no restante\n",
    "z = np.eye(3)\n",
    "print(z)"
   ]
  },
  {
   "cell_type": "code",
   "execution_count": 166,
   "id": "ece6d6cb",
   "metadata": {},
   "outputs": [
    {
     "name": "stdout",
     "output_type": "stream",
     "text": [
      "[[1 0 0 0]\n",
      " [0 2 0 0]\n",
      " [0 0 3 0]\n",
      " [0 0 0 4]]\n"
     ]
    }
   ],
   "source": [
    "# Criando um novo array em que os valores passados em parametro formam a diagonal principal\n",
    "d = np.diag(np.array([1, 2, 3, 4]))\n",
    "print(d)"
   ]
  },
  {
   "cell_type": "code",
   "execution_count": 167,
   "id": "cb2ef14c",
   "metadata": {},
   "outputs": [
    {
     "name": "stdout",
     "output_type": "stream",
     "text": [
      "[1.+2.j 3.+4.j 5.+6.j]\n",
      "[ True False False  True]\n",
      "['Python' 'R' 'Julia']\n"
     ]
    }
   ],
   "source": [
    "# Array de números complexos, strings e valores booleanos\n",
    "c = np.array([1+2j, 3+4j, 5+6*1j])\n",
    "b = np.array([True, False, False, True])\n",
    "s = np.array(['Python', 'R', 'Julia'])\n",
    "print(c)\n",
    "print(b)\n",
    "print(s)"
   ]
  },
  {
   "cell_type": "code",
   "execution_count": 168,
   "id": "0966ae74",
   "metadata": {},
   "outputs": [
    {
     "name": "stdout",
     "output_type": "stream",
     "text": [
      "[ 0.          0.20408163  0.40816327  0.6122449   0.81632653  1.02040816\n",
      "  1.2244898   1.42857143  1.63265306  1.83673469  2.04081633  2.24489796\n",
      "  2.44897959  2.65306122  2.85714286  3.06122449  3.26530612  3.46938776\n",
      "  3.67346939  3.87755102  4.08163265  4.28571429  4.48979592  4.69387755\n",
      "  4.89795918  5.10204082  5.30612245  5.51020408  5.71428571  5.91836735\n",
      "  6.12244898  6.32653061  6.53061224  6.73469388  6.93877551  7.14285714\n",
      "  7.34693878  7.55102041  7.75510204  7.95918367  8.16326531  8.36734694\n",
      "  8.57142857  8.7755102   8.97959184  9.18367347  9.3877551   9.59183673\n",
      "  9.79591837 10.        ]\n",
      "[ 0.          0.71428571  1.42857143  2.14285714  2.85714286  3.57142857\n",
      "  4.28571429  5.          5.71428571  6.42857143  7.14285714  7.85714286\n",
      "  8.57142857  9.28571429 10.        ]\n"
     ]
    }
   ],
   "source": [
    "# O método linspace (linearly spaced vector) retorna um número de \n",
    "# valores igualmente distribuidos no intervalo especificado\n",
    "# entorpecido. linspace( start , stop , num = 50 , endpoint = True , retstep = False , dtype = None , axis = 0 )\n",
    "print(np.linspace(0, 10))\n",
    "print(np.linspace(0, 10, 15))"
   ]
  },
  {
   "cell_type": "code",
   "execution_count": 169,
   "id": "7dc8dc25",
   "metadata": {},
   "outputs": [
    {
     "name": "stdout",
     "output_type": "stream",
     "text": [
      "[1.00000000e+00 3.59381366e+00 1.29154967e+01 4.64158883e+01\n",
      " 1.66810054e+02 5.99484250e+02 2.15443469e+03 7.74263683e+03\n",
      " 2.78255940e+04 1.00000000e+05]\n"
     ]
    }
   ],
   "source": [
    "print(np.logspace(0, 5, 10))"
   ]
  },
  {
   "cell_type": "markdown",
   "id": "f699fc74",
   "metadata": {},
   "source": [
    "## Criando Matrizes"
   ]
  },
  {
   "cell_type": "code",
   "execution_count": 170,
   "id": "b5695586",
   "metadata": {},
   "outputs": [
    {
     "name": "stdout",
     "output_type": "stream",
     "text": [
      "[[1 2 3]\n",
      " [4 5 6]]\n",
      "(2, 3)\n"
     ]
    }
   ],
   "source": [
    "matriz = np.array([[1, 2, 3],[4, 5, 6]])\n",
    "print(matriz)\n",
    "# Matriz com 2 linhas e 3 colunas\n",
    "print(matriz.shape)"
   ]
  },
  {
   "cell_type": "code",
   "execution_count": 171,
   "id": "90b0ec85",
   "metadata": {},
   "outputs": [
    {
     "name": "stdout",
     "output_type": "stream",
     "text": [
      "[[1. 1. 1.]\n",
      " [1. 1. 1.]]\n"
     ]
    }
   ],
   "source": [
    "# Criando uma matriz 2x3 apenas com números \"1\"\n",
    "matriz1 = np.ones((2,3))\n",
    "print(matriz1)"
   ]
  },
  {
   "cell_type": "code",
   "execution_count": 172,
   "id": "0d80065d",
   "metadata": {},
   "outputs": [
    {
     "name": "stdout",
     "output_type": "stream",
     "text": [
      "[[13 81 22]\n",
      " [ 0 34 59]\n",
      " [21 48 94]]\n",
      "<class 'numpy.matrix'>\n",
      "(3, 3)\n"
     ]
    }
   ],
   "source": [
    "# Criando uma matriz a partir de uma lista de listas\n",
    "lista = [[13,81,22], [0, 34, 59], [21, 48, 94]]\n",
    "matriz2 = np.matrix(lista)\n",
    "print(matriz2)\n",
    "print(type(matriz2))\n",
    "print(np.shape(matriz2))"
   ]
  },
  {
   "cell_type": "code",
   "execution_count": 173,
   "id": "e209bb7b",
   "metadata": {},
   "outputs": [
    {
     "name": "stdout",
     "output_type": "stream",
     "text": [
      "8\n"
     ]
    },
    {
     "data": {
      "text/plain": [
       "72"
      ]
     },
     "execution_count": 173,
     "metadata": {},
     "output_type": "execute_result"
    }
   ],
   "source": [
    "# Verificando o tamalho de cada elemento da matriz que irá ocupar na memoria do computador\n",
    "print(matriz2.itemsize)\n",
    "# Verificando o tamalho opupado pela matriz na memoria do computador\n",
    "matriz2.nbytes"
   ]
  },
  {
   "cell_type": "code",
   "execution_count": 174,
   "id": "0526cef4",
   "metadata": {},
   "outputs": [
    {
     "data": {
      "text/plain": [
       "48"
      ]
     },
     "execution_count": 174,
     "metadata": {},
     "output_type": "execute_result"
    }
   ],
   "source": [
    "# Retornando valor de um elemento na matriz\n",
    "matriz2[2,1]"
   ]
  },
  {
   "cell_type": "code",
   "execution_count": 175,
   "id": "5b867627",
   "metadata": {},
   "outputs": [
    {
     "name": "stdout",
     "output_type": "stream",
     "text": [
      "[[ 13  81  22]\n",
      " [100  34  59]\n",
      " [ 21  48  94]]\n"
     ]
    }
   ],
   "source": [
    "# Alterando um elemento\n",
    "matriz2[1,0] = 100\n",
    "print(matriz2)"
   ]
  },
  {
   "cell_type": "code",
   "execution_count": 176,
   "id": "45c1ea81",
   "metadata": {},
   "outputs": [
    {
     "name": "stdout",
     "output_type": "stream",
     "text": [
      "int64 float64 float64\n"
     ]
    }
   ],
   "source": [
    "x = np.array([1, 2])  # NumPy decide o tipo dos dados\n",
    "y = np.array([1.0, 2.0])  # NumPy decide o tipo dos dados\n",
    "z = np.array([1, 2], dtype=np.float64)  # Forçamos um tipo de dado em particular\n",
    "\n",
    "print (x.dtype, y.dtype, z.dtype)"
   ]
  },
  {
   "cell_type": "code",
   "execution_count": 177,
   "id": "c794e7ae",
   "metadata": {},
   "outputs": [
    {
     "name": "stdout",
     "output_type": "stream",
     "text": [
      "[[24. 76.]\n",
      " [35. 89.]]\n"
     ]
    }
   ],
   "source": [
    "matriz3 = np.array([[24, 76], [35, 89]], dtype=float)\n",
    "print(matriz3)"
   ]
  },
  {
   "cell_type": "code",
   "execution_count": 178,
   "id": "b46d09a8",
   "metadata": {},
   "outputs": [
    {
     "data": {
      "text/plain": [
       "2"
      ]
     },
     "execution_count": 178,
     "metadata": {},
     "output_type": "execute_result"
    }
   ],
   "source": [
    "# Dimensão de uma matriz\n",
    "matriz3.ndim"
   ]
  },
  {
   "cell_type": "markdown",
   "id": "df3cba67",
   "metadata": {},
   "source": [
    "## Usando o Método random() do NumPy"
   ]
  },
  {
   "cell_type": "code",
   "execution_count": 179,
   "id": "04856751",
   "metadata": {},
   "outputs": [
    {
     "name": "stdout",
     "output_type": "stream",
     "text": [
      "[0.06720777 0.1918781  0.49734831 0.79069667 0.47290937 0.65225983\n",
      " 0.66524618 0.63962813 0.37769535 0.05485233]\n"
     ]
    }
   ],
   "source": [
    "# Criando uma lista de 10 elementos no intervalo [0,1)\n",
    "print(np.random.rand(10))"
   ]
  },
  {
   "cell_type": "code",
   "execution_count": 180,
   "id": "9bc8031b",
   "metadata": {},
   "outputs": [],
   "source": [
    "import matplotlib.pyplot as plt\n",
    "%matplotlib inline"
   ]
  },
  {
   "cell_type": "code",
   "execution_count": 181,
   "id": "f7ef0068",
   "metadata": {},
   "outputs": [
    {
     "data": {
      "text/plain": [
       "'3.4.2'"
      ]
     },
     "execution_count": 181,
     "metadata": {},
     "output_type": "execute_result"
    }
   ],
   "source": [
    "import matplotlib as mat\n",
    "mat.__version__"
   ]
  },
  {
   "cell_type": "code",
   "execution_count": 182,
   "id": "cc022248",
   "metadata": {},
   "outputs": [
    {
     "data": {
      "image/png": "[encoded data removed]",
      "text/plain": [
       "<Figure size 432x288 with 1 Axes>"
      ]
     },
     "metadata": {
      "needs_background": "light"
     },
     "output_type": "display_data"
    }
   ],
   "source": [
    "# Criando um histograma para analisar a distribuição desses valores\n",
    "plt.show((plt.hist(np.random.rand(3000))))"
   ]
  },
  {
   "cell_type": "code",
   "execution_count": 183,
   "id": "75b7f713",
   "metadata": {},
   "outputs": [
    {
     "name": "stdout",
     "output_type": "stream",
     "text": [
      "[[-0.62969144  0.45631736 -1.34998302  0.08100565 -0.62683172]\n",
      " [ 0.02102344 -1.14355755  0.52114585  0.54847495  0.88622058]\n",
      " [-0.79539837  3.3548507  -0.04878695 -1.91960533  0.84710559]\n",
      " [ 0.33112045  0.21054601 -0.83117755 -1.05442747 -0.09046827]\n",
      " [ 0.03149109  0.11841567  0.30700246  0.60067939 -0.2348871 ]]\n"
     ]
    }
   ],
   "source": [
    "# Criando matriz(nxm) flutuações aleatórias amostradas de uma distribuição univariada \"normal\" (Gaussiana)\n",
    "# de média 0 e variância 1.\n",
    "print(np.random.randn(5,5))"
   ]
  },
  {
   "cell_type": "code",
   "execution_count": 184,
   "id": "8ee47e83",
   "metadata": {},
   "outputs": [
    {
     "data": {
      "image/png": "[encoded data removed]",
      "text/plain": [
       "<Figure size 432x288 with 1 Axes>"
      ]
     },
     "metadata": {
      "needs_background": "light"
     },
     "output_type": "display_data"
    }
   ],
   "source": [
    "plt.show(plt.hist(np.random.randn(1000)))"
   ]
  },
  {
   "cell_type": "code",
   "execution_count": 185,
   "id": "728aa804",
   "metadata": {},
   "outputs": [
    {
     "data": {
      "text/plain": [
       "<matplotlib.colorbar.Colorbar at 0x7f80fa0dc190>"
      ]
     },
     "execution_count": 185,
     "metadata": {},
     "output_type": "execute_result"
    },
    {
     "data": {
      "image/png": "[encoded data removed]",
      "text/plain": [
       "<Figure size 432x288 with 2 Axes>"
      ]
     },
     "metadata": {
      "needs_background": "light"
     },
     "output_type": "display_data"
    }
   ],
   "source": [
    "# Criando gráfico de calor\n",
    "imagem = np.random.randn(30, 30)\n",
    "plt.imshow(imagem, cmap = plt.cm.hot)\n",
    "plt.colorbar()"
   ]
  },
  {
   "cell_type": "markdown",
   "id": "6788599b",
   "metadata": {},
   "source": [
    "## Operações com DataSets"
   ]
  },
  {
   "cell_type": "code",
   "execution_count": 186,
   "id": "b661cad9",
   "metadata": {},
   "outputs": [],
   "source": [
    "# Importando o arquivo iris.csv\n",
    "import os\n",
    "filename = os.path.join('iris.csv')"
   ]
  },
  {
   "cell_type": "code",
   "execution_count": 187,
   "id": "1556285e",
   "metadata": {},
   "outputs": [
    {
     "name": "stdout",
     "output_type": "stream",
     "text": [
      "sepal_length,sepal_width,petal_length,petal_width,species\r\n",
      "5.1,3.5,1.4,0.2,setosa\r\n",
      "4.9,3,1.4,0.2,setosa\r\n",
      "4.7,3.2,1.3,0.2,setosa\r\n",
      "4.6,3.1,1.5,0.2,setosa\r\n",
      "5,3.6,1.4,0.2,setosa\r\n",
      "5.4,3.9,1.7,0.4,setosa\r\n",
      "4.6,3.4,1.4,0.3,setosa\r\n",
      "5,3.4,1.5,0.2,setosa\r\n",
      "4.4,2.9,1.4,0.2,setosa\r\n"
     ]
    }
   ],
   "source": [
    "# No Windows use !more iris.csv. Mac ou Linux use !head iris.csv\n",
    "# visualizando as primeira linhas do arquivo\n",
    "!head iris.csv"
   ]
  },
  {
   "cell_type": "code",
   "execution_count": 188,
   "id": "42bf23a6",
   "metadata": {},
   "outputs": [
    {
     "name": "stdout",
     "output_type": "stream",
     "text": [
      "[[5.1 3.5 1.4 0.2]\n",
      " [4.9 3.  1.4 0.2]\n",
      " [4.7 3.2 1.3 0.2]\n",
      " [4.6 3.1 1.5 0.2]\n",
      " [5.  3.6 1.4 0.2]\n",
      " [5.4 3.9 1.7 0.4]\n",
      " [4.6 3.4 1.4 0.3]\n",
      " [5.  3.4 1.5 0.2]\n",
      " [4.4 2.9 1.4 0.2]\n",
      " [4.9 3.1 1.5 0.1]\n",
      " [5.4 3.7 1.5 0.2]\n",
      " [4.8 3.4 1.6 0.2]\n",
      " [4.8 3.  1.4 0.1]\n",
      " [4.3 3.  1.1 0.1]\n",
      " [5.8 4.  1.2 0.2]\n",
      " [5.7 4.4 1.5 0.4]\n",
      " [5.4 3.9 1.3 0.4]\n",
      " [5.1 3.5 1.4 0.3]\n",
      " [5.7 3.8 1.7 0.3]\n",
      " [5.1 3.8 1.5 0.3]\n",
      " [5.4 3.4 1.7 0.2]\n",
      " [5.1 3.7 1.5 0.4]\n",
      " [4.6 3.6 1.  0.2]\n",
      " [5.1 3.3 1.7 0.5]\n",
      " [4.8 3.4 1.9 0.2]\n",
      " [5.  3.  1.6 0.2]\n",
      " [5.  3.4 1.6 0.4]\n",
      " [5.2 3.5 1.5 0.2]\n",
      " [5.2 3.4 1.4 0.2]\n",
      " [4.7 3.2 1.6 0.2]\n",
      " [4.8 3.1 1.6 0.2]\n",
      " [5.4 3.4 1.5 0.4]\n",
      " [5.2 4.1 1.5 0.1]\n",
      " [5.5 4.2 1.4 0.2]\n",
      " [4.9 3.1 1.5 0.1]\n",
      " [5.  3.2 1.2 0.2]\n",
      " [5.5 3.5 1.3 0.2]\n",
      " [4.9 3.1 1.5 0.1]\n",
      " [4.4 3.  1.3 0.2]\n",
      " [5.1 3.4 1.5 0.2]\n",
      " [5.  3.5 1.3 0.3]\n",
      " [4.5 2.3 1.3 0.3]\n",
      " [4.4 3.2 1.3 0.2]\n",
      " [5.  3.5 1.6 0.6]\n",
      " [5.1 3.8 1.9 0.4]\n",
      " [4.8 3.  1.4 0.3]\n",
      " [5.1 3.8 1.6 0.2]\n",
      " [4.6 3.2 1.4 0.2]\n",
      " [5.3 3.7 1.5 0.2]\n",
      " [5.  3.3 1.4 0.2]\n",
      " [7.  3.2 4.7 1.4]\n",
      " [6.4 3.2 4.5 1.5]\n",
      " [6.9 3.1 4.9 1.5]\n",
      " [5.5 2.3 4.  1.3]\n",
      " [6.5 2.8 4.6 1.5]\n",
      " [5.7 2.8 4.5 1.3]\n",
      " [6.3 3.3 4.7 1.6]\n",
      " [4.9 2.4 3.3 1. ]\n",
      " [6.6 2.9 4.6 1.3]\n",
      " [5.2 2.7 3.9 1.4]\n",
      " [5.  2.  3.5 1. ]\n",
      " [5.9 3.  4.2 1.5]\n",
      " [6.  2.2 4.  1. ]\n",
      " [6.1 2.9 4.7 1.4]\n",
      " [5.6 2.9 3.6 1.3]\n",
      " [6.7 3.1 4.4 1.4]\n",
      " [5.6 3.  4.5 1.5]\n",
      " [5.8 2.7 4.1 1. ]\n",
      " [6.2 2.2 4.5 1.5]\n",
      " [5.6 2.5 3.9 1.1]\n",
      " [5.9 3.2 4.8 1.8]\n",
      " [6.1 2.8 4.  1.3]\n",
      " [6.3 2.5 4.9 1.5]\n",
      " [6.1 2.8 4.7 1.2]\n",
      " [6.4 2.9 4.3 1.3]\n",
      " [6.6 3.  4.4 1.4]\n",
      " [6.8 2.8 4.8 1.4]\n",
      " [6.7 3.  5.  1.7]\n",
      " [6.  2.9 4.5 1.5]\n",
      " [5.7 2.6 3.5 1. ]\n",
      " [5.5 2.4 3.8 1.1]\n",
      " [5.5 2.4 3.7 1. ]\n",
      " [5.8 2.7 3.9 1.2]\n",
      " [6.  2.7 5.1 1.6]\n",
      " [5.4 3.  4.5 1.5]\n",
      " [6.  3.4 4.5 1.6]\n",
      " [6.7 3.1 4.7 1.5]\n",
      " [6.3 2.3 4.4 1.3]\n",
      " [5.6 3.  4.1 1.3]\n",
      " [5.5 2.5 4.  1.3]\n",
      " [5.5 2.6 4.4 1.2]\n",
      " [6.1 3.  4.6 1.4]\n",
      " [5.8 2.6 4.  1.2]\n",
      " [5.  2.3 3.3 1. ]\n",
      " [5.6 2.7 4.2 1.3]\n",
      " [5.7 3.  4.2 1.2]\n",
      " [5.7 2.9 4.2 1.3]\n",
      " [6.2 2.9 4.3 1.3]\n",
      " [5.1 2.5 3.  1.1]\n",
      " [5.7 2.8 4.1 1.3]\n",
      " [6.3 3.3 6.  2.5]\n",
      " [5.8 2.7 5.1 1.9]\n",
      " [7.1 3.  5.9 2.1]\n",
      " [6.3 2.9 5.6 1.8]\n",
      " [6.5 3.  5.8 2.2]\n",
      " [7.6 3.  6.6 2.1]\n",
      " [4.9 2.5 4.5 1.7]\n",
      " [7.3 2.9 6.3 1.8]\n",
      " [6.7 2.5 5.8 1.8]\n",
      " [7.2 3.6 6.1 2.5]\n",
      " [6.5 3.2 5.1 2. ]\n",
      " [6.4 2.7 5.3 1.9]\n",
      " [6.8 3.  5.5 2.1]\n",
      " [5.7 2.5 5.  2. ]\n",
      " [5.8 2.8 5.1 2.4]\n",
      " [6.4 3.2 5.3 2.3]\n",
      " [6.5 3.  5.5 1.8]\n",
      " [7.7 3.8 6.7 2.2]\n",
      " [7.7 2.6 6.9 2.3]\n",
      " [6.  2.2 5.  1.5]\n",
      " [6.9 3.2 5.7 2.3]\n",
      " [5.6 2.8 4.9 2. ]\n",
      " [7.7 2.8 6.7 2. ]\n",
      " [6.3 2.7 4.9 1.8]\n",
      " [6.7 3.3 5.7 2.1]\n",
      " [7.2 3.2 6.  1.8]\n",
      " [6.2 2.8 4.8 1.8]\n",
      " [6.1 3.  4.9 1.8]\n",
      " [6.4 2.8 5.6 2.1]\n",
      " [7.2 3.  5.8 1.6]\n",
      " [7.4 2.8 6.1 1.9]\n",
      " [7.9 3.8 6.4 2. ]\n",
      " [6.4 2.8 5.6 2.2]\n",
      " [6.3 2.8 5.1 1.5]\n",
      " [6.1 2.6 5.6 1.4]\n",
      " [7.7 3.  6.1 2.3]\n",
      " [6.3 3.4 5.6 2.4]\n",
      " [6.4 3.1 5.5 1.8]\n",
      " [6.  3.  4.8 1.8]\n",
      " [6.9 3.1 5.4 2.1]\n",
      " [6.7 3.1 5.6 2.4]\n",
      " [6.9 3.1 5.1 2.3]\n",
      " [5.8 2.7 5.1 1.9]\n",
      " [6.8 3.2 5.9 2.3]\n",
      " [6.7 3.3 5.7 2.5]\n",
      " [6.7 3.  5.2 2.3]\n",
      " [6.3 2.5 5.  1.9]\n",
      " [6.5 3.  5.2 2. ]\n",
      " [6.2 3.4 5.4 2.3]\n",
      " [5.9 3.  5.1 1.8]]\n"
     ]
    }
   ],
   "source": [
    "# Carregando um dataset para dentro de um array\n",
    "arquivo = np.loadtxt(filename, delimiter=',', usecols=(0,1,2,3), skiprows=1)\n",
    "print(arquivo)"
   ]
  },
  {
   "cell_type": "code",
   "execution_count": 189,
   "id": "39eb83cf",
   "metadata": {},
   "outputs": [
    {
     "data": {
      "text/plain": [
       "numpy.ndarray"
      ]
     },
     "execution_count": 189,
     "metadata": {},
     "output_type": "execute_result"
    }
   ],
   "source": [
    "type(arquivo)"
   ]
  },
  {
   "cell_type": "code",
   "execution_count": 190,
   "id": "7e54c6a2",
   "metadata": {},
   "outputs": [
    {
     "name": "stdout",
     "output_type": "stream",
     "text": [
      "[5.1 4.9 4.7 4.6 5.  5.4 4.6 5.  4.4 4.9 5.4 4.8 4.8 4.3 5.8 5.7 5.4 5.1\n",
      " 5.7 5.1 5.4 5.1 4.6 5.1 4.8 5.  5.  5.2 5.2 4.7 4.8 5.4 5.2 5.5 4.9 5.\n",
      " 5.5 4.9 4.4 5.1 5.  4.5 4.4 5.  5.1 4.8 5.1 4.6 5.3 5.  7.  6.4 6.9 5.5\n",
      " 6.5 5.7 6.3 4.9 6.6 5.2 5.  5.9 6.  6.1 5.6 6.7 5.6 5.8 6.2 5.6 5.9 6.1\n",
      " 6.3 6.1 6.4 6.6 6.8 6.7 6.  5.7 5.5 5.5 5.8 6.  5.4 6.  6.7 6.3 5.6 5.5\n",
      " 5.5 6.1 5.8 5.  5.6 5.7 5.7 6.2 5.1 5.7 6.3 5.8 7.1 6.3 6.5 7.6 4.9 7.3\n",
      " 6.7 7.2 6.5 6.4 6.8 5.7 5.8 6.4 6.5 7.7 7.7 6.  6.9 5.6 7.7 6.3 6.7 7.2\n",
      " 6.2 6.1 6.4 7.2 7.4 7.9 6.4 6.3 6.1 7.7 6.3 6.4 6.  6.9 6.7 6.9 5.8 6.8\n",
      " 6.7 6.7 6.3 6.5 6.2 5.9]\n",
      "[3.5 3.  3.2 3.1 3.6 3.9 3.4 3.4 2.9 3.1 3.7 3.4 3.  3.  4.  4.4 3.9 3.5\n",
      " 3.8 3.8 3.4 3.7 3.6 3.3 3.4 3.  3.4 3.5 3.4 3.2 3.1 3.4 4.1 4.2 3.1 3.2\n",
      " 3.5 3.1 3.  3.4 3.5 2.3 3.2 3.5 3.8 3.  3.8 3.2 3.7 3.3 3.2 3.2 3.1 2.3\n",
      " 2.8 2.8 3.3 2.4 2.9 2.7 2.  3.  2.2 2.9 2.9 3.1 3.  2.7 2.2 2.5 3.2 2.8\n",
      " 2.5 2.8 2.9 3.  2.8 3.  2.9 2.6 2.4 2.4 2.7 2.7 3.  3.4 3.1 2.3 3.  2.5\n",
      " 2.6 3.  2.6 2.3 2.7 3.  2.9 2.9 2.5 2.8 3.3 2.7 3.  2.9 3.  3.  2.5 2.9\n",
      " 2.5 3.6 3.2 2.7 3.  2.5 2.8 3.2 3.  3.8 2.6 2.2 3.2 2.8 2.8 2.7 3.3 3.2\n",
      " 2.8 3.  2.8 3.  2.8 3.8 2.8 2.8 2.6 3.  3.4 3.1 3.  3.1 3.1 3.1 2.7 3.2\n",
      " 3.3 3.  2.5 3.  3.4 3. ]\n"
     ]
    }
   ],
   "source": [
    "# Gerando um plot a partir de um arquivo usando o Numpy\n",
    "var1, var2 = np.loadtxt(filename, delimiter=',', usecols=(0,1), skiprows=1, unpack=True)\n",
    "print(var1)\n",
    "print(var2)"
   ]
  },
  {
   "cell_type": "code",
   "execution_count": 191,
   "id": "88f6fd2d",
   "metadata": {},
   "outputs": [
    {
     "data": {
      "image/png": "[encoded data removed]",
      "text/plain": [
       "<Figure size 432x288 with 1 Axes>"
      ]
     },
     "metadata": {
      "needs_background": "light"
     },
     "output_type": "display_data"
    }
   ],
   "source": [
    "plt.show(plt.plot(var1, var2, 'o', markersize=8, alpha=0.75))"
   ]
  },
  {
   "cell_type": "markdown",
   "id": "f31434ab",
   "metadata": {},
   "source": [
    "## Estatística"
   ]
  },
  {
   "cell_type": "code",
   "execution_count": 192,
   "id": "ab2b88ab",
   "metadata": {},
   "outputs": [],
   "source": [
    "# Criando um array\n",
    "A = np.array([15, 23, 63, 94, 75])"
   ]
  },
  {
   "cell_type": "code",
   "execution_count": 193,
   "id": "d0873f62",
   "metadata": {},
   "outputs": [
    {
     "data": {
      "text/plain": [
       "54.0"
      ]
     },
     "execution_count": 193,
     "metadata": {},
     "output_type": "execute_result"
    }
   ],
   "source": [
    "# Média\n",
    "np.mean(A)"
   ]
  },
  {
   "cell_type": "code",
   "execution_count": 194,
   "id": "f138eda7",
   "metadata": {},
   "outputs": [
    {
     "data": {
      "text/plain": [
       "30.34468652004828"
      ]
     },
     "execution_count": 194,
     "metadata": {},
     "output_type": "execute_result"
    }
   ],
   "source": [
    "# O desvio padrão mostra o quanto de variação ou \"dispersão\" existe em \n",
    "# relação à média (ou valor esperado). \n",
    "# Um baixo desvio padrão indica que os dados tendem a estar próximos da média.\n",
    "# Um desvio padrão alto indica que os dados estão espalhados por uma gama de valores.\n",
    "np.std(A)"
   ]
  },
  {
   "cell_type": "code",
   "execution_count": 195,
   "id": "02c33e57",
   "metadata": {},
   "outputs": [
    {
     "data": {
      "text/plain": [
       "array([1, 2, 3, 4, 5, 6, 7, 8, 9])"
      ]
     },
     "execution_count": 195,
     "metadata": {},
     "output_type": "execute_result"
    }
   ],
   "source": [
    "# Criando um outro array\n",
    "d = np.arange(1, 10)\n",
    "d"
   ]
  },
  {
   "cell_type": "code",
   "execution_count": 196,
   "id": "7658af96",
   "metadata": {},
   "outputs": [
    {
     "data": {
      "text/plain": [
       "45"
      ]
     },
     "execution_count": 196,
     "metadata": {},
     "output_type": "execute_result"
    }
   ],
   "source": [
    "# Soma\n",
    "np.sum(d)"
   ]
  },
  {
   "cell_type": "code",
   "execution_count": 197,
   "id": "a4f2d678",
   "metadata": {},
   "outputs": [
    {
     "data": {
      "text/plain": [
       "362880"
      ]
     },
     "execution_count": 197,
     "metadata": {},
     "output_type": "execute_result"
    }
   ],
   "source": [
    "# Produto\n",
    "np.prod(d)"
   ]
  },
  {
   "cell_type": "code",
   "execution_count": 198,
   "id": "8c404bce",
   "metadata": {},
   "outputs": [
    {
     "data": {
      "text/plain": [
       "array([ 1,  3,  6, 10, 15, 21, 28, 36, 45])"
      ]
     },
     "execution_count": 198,
     "metadata": {},
     "output_type": "execute_result"
    }
   ],
   "source": [
    "# Soma Acumulada\n",
    "np.cumsum(d)"
   ]
  },
  {
   "cell_type": "code",
   "execution_count": 199,
   "id": "036b7ac8",
   "metadata": {},
   "outputs": [
    {
     "name": "stdout",
     "output_type": "stream",
     "text": [
      "[[ 1.56409161e-01 -1.96249879e-01]\n",
      " [-1.71894348e+00 -1.19573995e+00]\n",
      " [ 7.05072109e-01 -8.49230809e-01]\n",
      " [-2.70209780e-01 -1.33542280e+00]\n",
      " [ 1.15198175e+00 -2.60821264e-01]\n",
      " [-1.00174319e+00  1.88316719e-01]\n",
      " [-1.13100965e+00 -4.77132457e-03]\n",
      " [ 3.67781370e-01  3.16395969e-01]\n",
      " [ 7.59454390e-01 -1.34812573e+00]\n",
      " [ 1.03129471e+00  1.73429623e-01]\n",
      " [ 8.72895506e-01 -1.12993799e+00]\n",
      " [-4.08463838e-01  2.58461823e-01]\n",
      " [ 4.41364481e-01  2.85315139e-01]\n",
      " [ 1.46630750e+00  1.18216779e+00]\n",
      " [ 1.26655500e+00 -8.24597042e-01]\n",
      " [-4.67687314e-01 -1.83773745e+00]\n",
      " [-7.09377979e-01  3.00085186e+00]\n",
      " [-2.20745926e+00  3.20063182e-01]\n",
      " [ 8.80522297e-01  1.47821863e-01]\n",
      " [-2.59008766e+00 -4.66803284e-01]\n",
      " [ 8.29477607e-01  7.30519308e-01]\n",
      " [ 6.77891644e-01 -1.20089713e+00]\n",
      " [-2.95661061e-01 -1.39860669e+00]\n",
      " [-1.19015297e+00 -4.91275532e-01]\n",
      " [ 1.15934851e-02 -5.43394377e-01]\n",
      " [-1.23348525e+00  1.31738333e+00]\n",
      " [-1.09997585e+00 -4.31895106e-01]\n",
      " [ 1.74294031e+00 -1.37121873e+00]\n",
      " [-6.20939303e-01  9.01787299e-01]\n",
      " [-4.00847053e-01  1.38268102e+00]\n",
      " [ 6.08713740e-01 -3.09458365e-01]\n",
      " [ 3.33652016e-01  7.27266293e-01]\n",
      " [ 2.48520624e-01 -8.86713633e-01]\n",
      " [-2.38648750e-02  1.21320172e+00]\n",
      " [ 1.61068120e+00  1.06425900e+00]\n",
      " [ 1.99651753e+00  1.82332920e-01]\n",
      " [ 7.54507758e-02 -4.43982078e-01]\n",
      " [ 1.64083642e+00 -1.16811710e+00]\n",
      " [-4.12852732e-01 -6.42366253e-01]\n",
      " [ 1.29705075e+00 -1.46946114e-02]\n",
      " [ 2.42906822e-01 -1.81183797e-01]\n",
      " [-8.24370662e-01  1.22143139e-01]\n",
      " [-1.19219540e+00  3.45918239e-01]\n",
      " [ 2.32420175e-01  2.00394971e-01]\n",
      " [-9.47631429e-02  1.31636389e+00]\n",
      " [ 1.57354270e+00  9.56218240e-01]\n",
      " [ 1.81488258e-01 -5.73747468e-01]\n",
      " [ 1.34252597e+00  1.38383405e+00]\n",
      " [ 7.69009338e-01  1.64386243e+00]\n",
      " [ 3.60455950e-02  8.07301526e-01]\n",
      " [-1.61834949e+00  1.48097496e+00]\n",
      " [-3.66166195e-01  5.42634127e-01]\n",
      " [ 1.54746837e+00  8.97925142e-01]\n",
      " [-1.08827054e-01  1.79733654e+00]\n",
      " [ 2.65014160e-01  1.67394258e+00]\n",
      " [-1.49956909e-01  1.02579363e+00]\n",
      " [-4.35748390e-02  2.18557203e+00]\n",
      " [ 8.56437099e-01  9.23335656e-02]\n",
      " [-4.02655407e+00 -4.95870883e-01]\n",
      " [-5.22434256e-01  5.56175323e-01]\n",
      " [ 6.48248449e-01  1.39001490e+00]\n",
      " [ 1.88817228e+00  1.46479517e+00]\n",
      " [ 3.17154641e-01 -1.50159237e+00]\n",
      " [ 4.53358363e-01 -1.97877853e+00]\n",
      " [-9.42635129e-01 -5.49802862e-01]\n",
      " [-4.75939378e-02  8.02678242e-01]\n",
      " [ 2.05031383e+00  1.39763276e+00]\n",
      " [ 2.76508343e-01 -8.59357109e-01]\n",
      " [ 1.58584913e+00  1.53733080e-01]\n",
      " [ 2.19715297e+00  7.14476367e-01]\n",
      " [ 5.65871577e-01  6.80970794e-01]\n",
      " [-1.61983599e+00  2.33286346e+00]\n",
      " [-6.06249406e-01  3.01280380e-01]\n",
      " [-1.53910599e-01  7.84567757e-01]\n",
      " [ 5.60606265e-01 -3.00901242e-01]\n",
      " [ 3.10859151e-01 -2.26004356e-01]\n",
      " [ 4.20083679e-01  1.38158818e+00]\n",
      " [ 1.24493434e+00 -3.77467817e-02]\n",
      " [ 1.41042059e-01 -1.17227374e+00]\n",
      " [-1.98504358e+00 -3.00958024e-01]\n",
      " [ 2.54542902e-01 -1.17647274e-01]\n",
      " [-1.90270420e+00  1.69949333e-01]\n",
      " [-1.36789151e+00  3.69307732e-01]\n",
      " [ 8.64734760e-01  9.88938798e-01]\n",
      " [-7.81059232e-01 -1.26869317e+00]\n",
      " [-2.22931369e-01  7.39225469e-01]\n",
      " [-9.00000790e-02 -9.48007466e-02]\n",
      " [ 1.93043917e+00 -2.05692508e-01]\n",
      " [-1.89902522e+00 -7.63809572e-02]\n",
      " [-1.57596704e+00  1.47874044e+00]\n",
      " [ 1.01273904e+00 -4.99339863e-01]\n",
      " [ 9.87011121e-01 -1.24777794e+00]\n",
      " [ 1.88287252e-01 -1.20360710e+00]\n",
      " [ 1.18807122e+00  1.84253964e+00]\n",
      " [ 5.88314708e-01 -8.04394954e-01]\n",
      " [-2.87046170e-01  9.46110223e-01]\n",
      " [ 8.06699700e-02  1.77452106e+00]\n",
      " [-1.86069832e-01  9.83313472e-01]\n",
      " [ 1.16274783e+00  3.81573275e-01]\n",
      " [ 1.11647742e+00  2.86510186e-01]\n",
      " [-8.67603121e-02  5.02430017e-01]\n",
      " [-6.49364632e-01 -4.73271762e-01]\n",
      " [-1.24821025e+00 -1.59785891e-01]\n",
      " [-1.60137156e+00 -2.93522585e-01]\n",
      " [-6.86667606e-01  4.43315778e-01]\n",
      " [-1.60823907e-01 -6.90330161e-01]\n",
      " [ 9.53838629e-01 -1.27853321e+00]\n",
      " [ 1.23113450e+00  8.65854168e-01]\n",
      " [-8.26148265e-01  2.56959352e-01]\n",
      " [-1.85062534e-01  5.40253768e-01]\n",
      " [ 1.32661241e-01  1.04563291e+00]\n",
      " [ 1.97503410e+00  1.93574184e-01]\n",
      " [-1.32776408e+00 -8.55540488e-01]\n",
      " [-1.73456007e+00 -4.31229503e-01]\n",
      " [-1.34594627e+00  6.99460183e-01]\n",
      " [ 7.80718031e-01  5.51520768e-01]\n",
      " [ 1.91720300e-01 -9.26231598e-01]\n",
      " [-4.12380643e-02  1.83430898e+00]\n",
      " [ 1.40720842e+00  2.01931711e-01]\n",
      " [ 1.79058059e-01  7.69970473e-02]\n",
      " [ 1.41766552e+00  2.03128510e-01]\n",
      " [-5.48974568e-01  4.70222589e-01]\n",
      " [ 5.55002767e-01 -9.06121088e-01]\n",
      " [ 6.90307336e-01  1.83011227e+00]\n",
      " [-2.09440610e+00  1.25998745e+00]\n",
      " [ 7.26966900e-01 -1.74911131e-01]\n",
      " [ 1.18233349e+00  2.83060549e-01]\n",
      " [ 1.74985994e-01  1.79069265e+00]\n",
      " [-1.11642800e+00 -6.15730953e-02]\n",
      " [ 4.11363928e-01  2.94409373e-01]\n",
      " [ 3.70874076e-01  2.23346713e-01]\n",
      " [ 1.20038419e+00 -3.88905232e-01]\n",
      " [ 4.59684389e-01  3.72158040e-01]\n",
      " [ 5.67580941e-01  3.44845680e-01]\n",
      " [-3.08720798e-01  6.55310310e-02]\n",
      " [-3.41861392e-01  5.50040382e-01]\n",
      " [-2.37376597e-01  9.75662133e-01]\n",
      " [-3.90261437e-01  1.37379792e+00]\n",
      " [-6.04567928e-01 -1.35062815e+00]\n",
      " [ 1.08703258e+00  1.12533196e+00]\n",
      " [ 5.42658501e-02 -8.58970979e-01]\n",
      " [-5.46929253e-01  4.12018955e-01]\n",
      " [ 4.23006933e-01 -2.73443360e+00]\n",
      " [-1.15270295e+00 -1.25409139e+00]\n",
      " [-1.07116991e+00  1.13154709e+00]\n",
      " [-1.05535527e+00  8.33577465e-01]\n",
      " [-1.76974132e+00  3.79933729e-01]\n",
      " [ 2.37881362e+00 -9.26793334e-01]\n",
      " [ 7.05841402e-01 -8.63104327e-01]\n",
      " [ 5.23229384e-01  5.64061664e-01]\n",
      " [-5.23799474e-01  1.49062051e+00]\n",
      " [-1.26092460e+00 -1.08992543e+00]\n",
      " [-3.34757414e-01 -9.37904807e-01]\n",
      " [ 8.93502992e-01  1.38476239e+00]\n",
      " [ 4.89055110e-01  9.08617930e-01]\n",
      " [-1.78086224e+00  3.89259233e-01]\n",
      " [ 2.91609714e-02  1.10727666e-01]\n",
      " [-9.46677750e-01 -1.84686482e+00]\n",
      " [ 2.03639048e-01 -4.09826660e-01]\n",
      " [-1.10451245e-02 -1.40595505e+00]\n",
      " [ 3.44661327e-01  7.65242652e-01]\n",
      " [ 1.82633794e-01 -8.60266378e-01]\n",
      " [ 2.30393664e-01  1.26302525e-01]\n",
      " [-7.35399100e-01 -2.34979272e-01]\n",
      " [-2.10249481e+00 -3.45556737e-01]\n",
      " [-1.00652941e+00 -5.78305822e-01]\n",
      " [-1.19140291e+00 -3.64005740e-01]\n",
      " [-1.53927562e+00 -4.44453612e-01]\n",
      " [-9.49173253e-01  3.27833001e-01]\n",
      " [ 1.01629913e-01 -1.41820535e-01]\n",
      " [-2.44686782e-01  1.26821240e-01]\n",
      " [-1.33648998e+00 -1.13455494e+00]\n",
      " [-1.09460765e+00  9.55155204e-01]\n",
      " [ 1.47759954e-02 -3.17105277e-03]\n",
      " [-2.66899926e-01  2.03027410e+00]\n",
      " [-1.57124701e+00 -5.56433179e-01]\n",
      " [ 3.92029991e-01  8.12663218e-01]\n",
      " [-1.65772666e-01 -2.43273654e-01]\n",
      " [ 1.25588060e+00  1.92483501e+00]\n",
      " [-1.00240804e+00 -4.62402940e-01]\n",
      " [-3.89692656e-01  9.67479361e-01]\n",
      " [ 1.41728690e-01 -2.73573663e-01]\n",
      " [-9.43057928e-01 -5.12986328e-01]\n",
      " [ 1.66783302e+00 -1.44542354e+00]\n",
      " [ 9.90740155e-01 -6.86746599e-01]\n",
      " [ 1.08363914e+00  7.00953208e-01]\n",
      " [ 2.17846037e-01 -5.43939738e-01]\n",
      " [-8.26739417e-01  1.34688218e-01]\n",
      " [ 2.27025715e+00 -9.92380813e-01]\n",
      " [ 9.67592766e-01 -1.73714426e+00]\n",
      " [-7.71878534e-01 -1.16803147e+00]\n",
      " [-7.23303232e-01  6.92405733e-01]\n",
      " [-1.85402416e-01  2.58346872e-01]\n",
      " [-1.65885653e+00 -9.57560385e-02]\n",
      " [-1.91229146e-01 -9.36826353e-02]\n",
      " [-8.00740001e-02 -1.30861669e+00]\n",
      " [-6.18319881e-01  1.29059432e+00]\n",
      " [ 1.71041214e+00 -1.51808881e+00]\n",
      " [ 1.54186946e+00  4.21809202e-01]\n",
      " [ 2.86077593e-01  1.84157933e+00]\n",
      " [ 1.39629909e+00 -7.41161405e-01]\n",
      " [ 1.33399030e+00 -3.41632806e-01]\n",
      " [ 2.45227919e-01 -4.07559779e-02]\n",
      " [ 6.44796579e-01 -1.24951154e+00]\n",
      " [ 1.59152485e-01  1.24899871e+00]\n",
      " [-3.55529060e-01  9.19439628e-01]\n",
      " [ 9.48314530e-01 -4.56256457e-01]\n",
      " [ 2.27156123e-02  7.95562429e-01]\n",
      " [-1.79372589e-02 -3.82203551e-01]\n",
      " [-1.24352314e+00  7.20460398e-01]\n",
      " [-6.94833340e-01  1.87910794e+00]\n",
      " [-4.99473329e-01  9.29121520e-01]\n",
      " [-6.40118963e-01  4.37760981e-01]\n",
      " [ 1.70983814e+00 -3.28957136e-01]\n",
      " [-1.15736169e+00 -2.17743732e+00]\n",
      " [ 1.10828309e+00  1.18340355e+00]\n",
      " [ 1.92381017e-03  5.41302583e-01]\n",
      " [ 3.16397251e-01 -1.79012621e-01]\n",
      " [ 3.17623131e-01  1.49802772e+00]\n",
      " [-6.88684663e-01 -1.30169315e-01]\n",
      " [-3.46440314e-01 -2.26880654e+00]\n",
      " [ 2.05772798e+00  9.95845987e-01]\n",
      " [-3.71374942e-01 -5.25177335e-01]\n",
      " [-1.03975778e+00 -6.96993232e-01]\n",
      " [ 1.00183197e+00  2.28822828e+00]\n",
      " [-8.13774939e-01  8.76564622e-01]\n",
      " [ 1.69870508e+00  9.77106359e-01]\n",
      " [ 2.14139864e+00 -2.39515089e-01]\n",
      " [-3.16208636e-01  9.46953147e-01]\n",
      " [-1.49258652e+00  1.71935098e+00]\n",
      " [ 6.87500249e-01  2.92103405e-01]\n",
      " [-1.41833579e-02 -5.65129616e-01]\n",
      " [ 8.30285038e-02 -1.38210580e+00]\n",
      " [ 6.82340315e-01  1.76912365e+00]\n",
      " [ 1.54391819e-01 -7.07556554e-01]\n",
      " [-1.78966684e+00  1.62056748e+00]\n",
      " [-1.38752564e+00  2.35192415e+00]\n",
      " [ 6.99985517e-01 -5.42365243e-01]\n",
      " [ 1.53364818e+00 -1.38086944e+00]\n",
      " [-1.55341790e+00  1.25946845e+00]\n",
      " [ 4.36085609e-01  1.54382706e+00]\n",
      " [-6.24561397e-01 -5.60861753e-01]\n",
      " [-5.40576209e-01 -7.34928359e-01]\n",
      " [ 2.26834751e-01 -8.98820123e-02]\n",
      " [ 1.99339010e+00 -1.83099987e+00]\n",
      " [ 5.89781373e-01  5.32304360e-02]\n",
      " [ 1.16875359e+00  2.14398846e-01]\n",
      " [-1.26346170e-02  1.37137824e+00]\n",
      " [ 1.61422682e+00 -1.53733892e+00]\n",
      " [-1.62161642e-02  1.55607589e-01]\n",
      " [ 3.89531041e-01  2.54333805e-01]\n",
      " [ 1.28614822e+00 -8.83534030e-01]\n",
      " [ 1.13927618e+00  8.73697436e-02]\n",
      " [-1.34449507e+00 -2.53985620e-01]\n",
      " [ 1.70504230e-01  1.22996342e+00]\n",
      " [-3.52543323e-01  1.25598441e-01]\n",
      " [ 4.40253455e-01  1.50739506e+00]\n",
      " [ 6.44258045e-01 -2.35158415e-01]\n",
      " [ 1.59787459e+00  4.29293090e-01]\n",
      " [-6.03469100e-01  4.13607286e-01]\n",
      " [-7.75179446e-01  1.02999879e+00]\n",
      " [-9.67461280e-01 -8.95658194e-01]\n",
      " [ 1.70722964e+00  4.50506415e-01]\n",
      " [ 8.66579763e-01  3.97577676e-01]\n",
      " [ 6.02344518e-01  7.33194490e-01]\n",
      " [ 4.88442314e-02  8.64764628e-01]\n",
      " [-2.63980884e-01  1.70871628e+00]\n",
      " [-1.89301921e-02  3.37324734e-02]\n",
      " [-7.27329425e-01  7.32335197e-01]\n",
      " [-1.88435862e+00 -8.89229522e-01]\n",
      " [-8.13956442e-01 -7.09877076e-01]\n",
      " [-1.14241441e+00  4.84563306e-01]\n",
      " [ 1.01403525e+00 -2.05684520e-01]\n",
      " [ 6.54529173e-02 -9.49823824e-02]\n",
      " [ 7.41456415e-01 -4.58904274e-01]\n",
      " [ 3.12299971e-01 -1.04357676e+00]\n",
      " [-1.08609938e-01 -6.97117138e-01]\n",
      " [-1.57358095e-01  1.54670912e+00]\n",
      " [ 1.44770595e+00  1.46832162e+00]\n",
      " [ 1.68302295e-01 -5.08196025e-01]\n",
      " [-9.17250857e-01  6.15924823e-01]\n",
      " [ 4.17755926e-01  7.49158736e-01]\n",
      " [ 1.24196447e-01 -3.27417889e-01]\n",
      " [-2.43816758e+00 -1.98584751e-01]\n",
      " [ 3.20576753e-01  3.34259858e-01]\n",
      " [-8.02054196e-01 -3.65949778e-01]\n",
      " [-8.48690728e-01 -1.80536204e-01]\n",
      " [-5.08930272e-02  5.52991267e-01]\n",
      " [-4.47848306e-01  2.38596255e+00]\n",
      " [-8.96899877e-01  1.02074865e-02]\n",
      " [ 1.17106128e+00 -1.22460362e+00]\n",
      " [-3.50077362e-01  2.24535265e-01]\n",
      " [ 1.84372130e+00  1.64448730e+00]\n",
      " [-1.60544995e-01  4.86543457e-01]\n",
      " [-3.86303997e-01 -5.72678267e-01]\n",
      " [-4.23103122e-01 -1.03429897e+00]\n",
      " [-6.56986019e-02 -2.09596079e+00]\n",
      " [ 3.03972462e-01  5.47040127e-01]\n",
      " [ 1.01364726e+00  1.64976795e-01]\n",
      " [-1.08787375e+00  4.30730122e-01]\n",
      " [ 3.45640577e-01 -8.89308496e-01]\n",
      " [ 1.45203339e+00  7.27875734e-01]\n",
      " [ 1.02118027e+00 -1.60634407e+00]\n",
      " [ 8.08046912e-01 -9.55511451e-01]\n",
      " [ 1.42656247e+00 -7.45243738e-01]\n",
      " [ 2.16748142e+00  5.72443366e-01]\n",
      " [ 4.28226702e-01 -8.79632997e-01]\n",
      " [-1.85431733e-01 -5.42860206e-01]\n",
      " [ 1.03387376e-01  9.77062540e-01]\n",
      " [ 1.47914731e+00 -1.12297266e-01]\n",
      " [ 4.14889541e-01 -3.52430035e-01]\n",
      " [-6.44609989e-01 -7.08034330e-02]\n",
      " [-5.59949893e-01  4.57824567e-01]\n",
      " [ 5.85946255e-01  4.40798384e-01]\n",
      " [ 1.88075854e+00 -3.95453128e-01]\n",
      " [-3.72276937e-01  5.56397190e-01]\n",
      " [ 2.43554508e+00  1.18675451e+00]\n",
      " [-2.86862858e-01  7.82885082e-01]\n",
      " [-9.76332559e-01  2.74646454e-01]\n",
      " [-6.56041221e-01  1.19855321e+00]\n",
      " [-1.69044059e+00 -2.48131132e-01]\n",
      " [-7.97020504e-01  3.34251134e-01]\n",
      " [-9.14748652e-01  7.69852660e-01]\n",
      " [-7.44940591e-01 -1.61452579e+00]\n",
      " [-8.79926205e-01  4.36325997e-01]\n",
      " [ 7.06904387e-01 -5.56786488e-01]\n",
      " [ 7.01539441e-01  2.15138621e-01]\n",
      " [-1.88608057e+00 -5.55422508e-01]\n",
      " [ 9.30267299e-01 -1.55233387e-01]\n",
      " [-3.77433958e-01  1.96974185e-01]\n",
      " [-3.63843735e-01  1.22458247e-02]\n",
      " [ 1.59412431e-01 -4.04684522e-01]\n",
      " [-1.11729052e+00 -1.01728586e+00]\n",
      " [ 7.46004580e-01 -7.51732993e-01]\n",
      " [ 6.52384428e-01  2.77653555e-01]\n",
      " [-1.63274571e-01 -1.39022528e+00]\n",
      " [-2.22962002e+00  2.49852421e+00]\n",
      " [-1.48576264e+00  1.55607601e+00]\n",
      " [-1.74615785e-01 -6.54842399e-01]\n",
      " [ 1.04073565e+00 -2.61020235e-01]\n",
      " [-7.45121450e-02 -5.15191293e-01]\n",
      " [ 5.80453876e-01  1.30831125e+00]\n",
      " [ 2.09945391e-01 -1.00922989e+00]\n",
      " [ 1.27589433e+00 -2.05165975e-01]\n",
      " [ 1.02391844e+00 -9.08394899e-01]\n",
      " [-1.24929714e+00  9.22643234e-01]\n",
      " [ 2.79036830e-01  3.00242460e-01]\n",
      " [-8.52801053e-01  3.68437359e-01]\n",
      " [ 1.09488842e-01  5.49837362e-01]\n",
      " [-6.88298606e-03  4.19989850e-01]\n",
      " [-2.03095257e-02  8.07803283e-01]\n",
      " [ 6.11933122e-01  7.11270632e-01]\n",
      " [ 6.67136677e-01 -1.17820740e-01]\n",
      " [ 8.73622585e-01  4.29280142e-01]\n",
      " [ 1.29666739e-02  1.89900459e+00]\n",
      " [-6.31573276e-02  1.61221614e+00]\n",
      " [ 5.48423139e-01 -1.35661391e+00]\n",
      " [ 1.79686811e-01  1.51819226e-01]\n",
      " [-5.68817244e-01  9.32678694e-01]\n",
      " [-3.42732221e-01  5.44251447e-02]\n",
      " [-5.06310700e-02  3.57492777e-01]\n",
      " [ 5.87935977e-01  6.53444006e-01]\n",
      " [-8.74392061e-02 -1.30494238e+00]\n",
      " [ 1.34360787e+00  7.68354471e-01]\n",
      " [-7.62534402e-01  5.94270560e-01]\n",
      " [-1.20845832e+00  3.63781598e-01]\n",
      " [ 2.83785710e-01 -3.81210624e-02]\n",
      " [ 1.36515325e-01  1.87676073e-01]\n",
      " [ 1.13872411e+00  1.58060068e+00]\n",
      " [-1.60800660e+00  1.10928762e+00]\n",
      " [ 9.65159628e-02 -1.51001986e+00]\n",
      " [-7.60592484e-01 -3.48296802e-01]\n",
      " [-9.36038563e-02  1.62209100e+00]\n",
      " [ 4.60429146e-01  1.40078565e+00]\n",
      " [ 1.15099416e+00 -8.15753381e-01]\n",
      " [-1.11227091e-01 -6.92882935e-01]\n",
      " [ 6.11951131e-01 -3.20712548e-01]\n",
      " [-3.42830707e-01 -2.98820702e-01]\n",
      " [-2.20595615e+00  7.43027585e-01]\n",
      " [-1.54878265e+00  4.06278938e-01]\n",
      " [-1.54957502e-01 -4.25133834e-01]\n",
      " [-1.47220753e+00 -1.04948643e+00]\n",
      " [ 3.19970270e-01  9.86721406e-01]\n",
      " [-1.01279214e+00  7.79355773e-01]\n",
      " [ 2.19276406e-01  1.65274343e+00]\n",
      " [ 4.20969772e-01  2.26497456e-01]\n",
      " [-3.88934947e-02  6.49544615e-01]\n",
      " [ 7.14378872e-01 -1.02339774e+00]\n",
      " [-3.10967735e-01  1.07216171e+00]\n",
      " [ 5.72855875e-01  1.02683819e+00]\n",
      " [-1.62436516e+00 -9.03002045e-01]\n",
      " [ 5.94835084e-01 -3.70142165e-02]\n",
      " [-1.17550587e-01 -6.15720912e-01]\n",
      " [ 1.07185928e+00 -3.22414979e-01]\n",
      " [ 4.79030615e-01 -6.18133585e-01]\n",
      " [-1.89355034e-01  1.39648071e-01]\n",
      " [ 2.35358196e-01 -3.84550008e-01]\n",
      " [ 5.01905090e-01  4.87449053e-01]\n",
      " [ 1.44508885e+00 -1.25584576e-01]\n",
      " [ 6.98206323e-01  6.04156864e-01]]\n"
     ]
    }
   ],
   "source": [
    "a = np.random.randn(400,2)\n",
    "print(a)"
   ]
  },
  {
   "cell_type": "code",
   "execution_count": 200,
   "id": "4cb1168d",
   "metadata": {},
   "outputs": [
    {
     "name": "stdout",
     "output_type": "stream",
     "text": [
      "[0.0369568  0.13386175] (2,)\n"
     ]
    }
   ],
   "source": [
    "m = a.mean(0)\n",
    "print(m, m.shape)"
   ]
  },
  {
   "cell_type": "code",
   "execution_count": 201,
   "id": "d7ddb979",
   "metadata": {},
   "outputs": [
    {
     "data": {
      "image/png": "[encoded data removed]",
      "text/plain": [
       "<Figure size 432x288 with 1 Axes>"
      ]
     },
     "metadata": {
      "needs_background": "light"
     },
     "output_type": "display_data"
    }
   ],
   "source": [
    "plt.plot(a[:,0], a[:,1], 'o', markersize=5, alpha=0.5)\n",
    "plt.plot(m[0], m[1], 'ro', markersize=10)\n",
    "plt.show()"
   ]
  },
  {
   "cell_type": "markdown",
   "id": "bb17b85a",
   "metadata": {},
   "source": [
    "## Outras Operações com Arrays"
   ]
  },
  {
   "cell_type": "code",
   "execution_count": 202,
   "id": "c98a0cd8",
   "metadata": {},
   "outputs": [
    {
     "data": {
      "text/plain": [
       "array([[0, 0, 0],\n",
       "       [0, 1, 0],\n",
       "       [0, 0, 2]])"
      ]
     },
     "execution_count": 202,
     "metadata": {},
     "output_type": "execute_result"
    }
   ],
   "source": [
    "# Slicing\n",
    "a = np.diag(np.arange(3))\n",
    "a"
   ]
  },
  {
   "cell_type": "code",
   "execution_count": 203,
   "id": "708b3535",
   "metadata": {},
   "outputs": [
    {
     "data": {
      "text/plain": [
       "1"
      ]
     },
     "execution_count": 203,
     "metadata": {},
     "output_type": "execute_result"
    }
   ],
   "source": [
    "a[1,1]"
   ]
  },
  {
   "cell_type": "code",
   "execution_count": 204,
   "id": "1c4110e8",
   "metadata": {},
   "outputs": [
    {
     "data": {
      "text/plain": [
       "array([0, 1, 0])"
      ]
     },
     "execution_count": 204,
     "metadata": {},
     "output_type": "execute_result"
    }
   ],
   "source": [
    "a[1]"
   ]
  },
  {
   "cell_type": "code",
   "execution_count": 205,
   "id": "4d12fe7f",
   "metadata": {},
   "outputs": [
    {
     "data": {
      "text/plain": [
       "array([0, 1, 2, 3, 4, 5, 6, 7, 8, 9])"
      ]
     },
     "execution_count": 205,
     "metadata": {},
     "output_type": "execute_result"
    }
   ],
   "source": [
    "b = np.arange(10)\n",
    "b"
   ]
  },
  {
   "cell_type": "code",
   "execution_count": 206,
   "id": "66d812f5",
   "metadata": {},
   "outputs": [
    {
     "data": {
      "text/plain": [
       "array([2, 5, 8])"
      ]
     },
     "execution_count": 206,
     "metadata": {},
     "output_type": "execute_result"
    }
   ],
   "source": [
    "# [start:end:step]\n",
    "b[2:9:3]"
   ]
  },
  {
   "cell_type": "code",
   "execution_count": 207,
   "id": "9cbb901b",
   "metadata": {},
   "outputs": [
    {
     "data": {
      "text/plain": [
       "array([False,  True, False,  True])"
      ]
     },
     "execution_count": 207,
     "metadata": {},
     "output_type": "execute_result"
    }
   ],
   "source": [
    "# Comparação\n",
    "a = np.array([1, 2, 3, 4])\n",
    "b = np.array([4, 2, 2, 4])\n",
    "a == b"
   ]
  },
  {
   "cell_type": "code",
   "execution_count": 208,
   "id": "3db17632",
   "metadata": {},
   "outputs": [
    {
     "data": {
      "text/plain": [
       "False"
      ]
     },
     "execution_count": 208,
     "metadata": {},
     "output_type": "execute_result"
    }
   ],
   "source": [
    "# Comparação\n",
    "np.array_equal(a,b)"
   ]
  },
  {
   "cell_type": "code",
   "execution_count": 209,
   "id": "5ad99fe4",
   "metadata": {},
   "outputs": [
    {
     "data": {
      "text/plain": [
       "1"
      ]
     },
     "execution_count": 209,
     "metadata": {},
     "output_type": "execute_result"
    }
   ],
   "source": [
    "# Mínimo\n",
    "a.min()"
   ]
  },
  {
   "cell_type": "code",
   "execution_count": 210,
   "id": "6e1dde75",
   "metadata": {},
   "outputs": [
    {
     "data": {
      "text/plain": [
       "4"
      ]
     },
     "execution_count": 210,
     "metadata": {},
     "output_type": "execute_result"
    }
   ],
   "source": [
    "# Máximo\n",
    "a.max()"
   ]
  },
  {
   "cell_type": "code",
   "execution_count": 213,
   "id": "3052bde8",
   "metadata": {},
   "outputs": [
    {
     "data": {
      "text/plain": [
       "array([2.5, 3.5, 4.5])"
      ]
     },
     "execution_count": 213,
     "metadata": {},
     "output_type": "execute_result"
    }
   ],
   "source": [
    "# Somando elementos \n",
    "np.array([1, 2, 3]) + 1.5"
   ]
  },
  {
   "cell_type": "code",
   "execution_count": 216,
   "id": "9cacdf8e",
   "metadata": {},
   "outputs": [
    {
     "data": {
      "text/plain": [
       "array([1., 2., 2., 2., 4., 4.])"
      ]
     },
     "execution_count": 216,
     "metadata": {},
     "output_type": "execute_result"
    }
   ],
   "source": [
    "# Usando método around\n",
    "a = np.array([1.2, 1.5, 1.6, 2.5, 3.5, 4.5])\n",
    "b = np.around(a)\n",
    "b"
   ]
  },
  {
   "cell_type": "code",
   "execution_count": 217,
   "id": "9ef836fb",
   "metadata": {},
   "outputs": [
    {
     "data": {
      "text/plain": [
       "array([1, 2, 3, 4])"
      ]
     },
     "execution_count": 217,
     "metadata": {},
     "output_type": "execute_result"
    }
   ],
   "source": [
    "# Criando um array\n",
    "B = np.array([1, 2, 3, 4])\n",
    "B"
   ]
  },
  {
   "cell_type": "code",
   "execution_count": 219,
   "id": "2087271b",
   "metadata": {},
   "outputs": [
    {
     "data": {
      "text/plain": [
       "array([1, 2, 3, 4])"
      ]
     },
     "execution_count": 219,
     "metadata": {},
     "output_type": "execute_result"
    }
   ],
   "source": [
    "# Copiando um array \n",
    "C = B.flatten()\n",
    "C"
   ]
  },
  {
   "cell_type": "code",
   "execution_count": 228,
   "id": "296a62e7",
   "metadata": {},
   "outputs": [
    {
     "name": "stdout",
     "output_type": "stream",
     "text": [
      "[[1]\n",
      " [2]\n",
      " [3]]\n",
      "[[1 2 3]]\n"
     ]
    },
    {
     "data": {
      "text/plain": [
       "((3, 1), (1, 3))"
      ]
     },
     "execution_count": 228,
     "metadata": {},
     "output_type": "execute_result"
    }
   ],
   "source": [
    "# Criando um array\n",
    "v = np.array([1, 2, 3])\n",
    "print(v[:,np.newaxis])\n",
    "print(v[np.newaxis,:])\n",
    "v[:,np.newaxis].shape, v[np.newaxis,:].shape"
   ]
  },
  {
   "cell_type": "code",
   "execution_count": 230,
   "id": "26b978a0",
   "metadata": {},
   "outputs": [
    {
     "data": {
      "text/plain": [
       "array([1, 1, 1, 2, 2, 2, 3, 3, 3])"
      ]
     },
     "execution_count": 230,
     "metadata": {},
     "output_type": "execute_result"
    }
   ],
   "source": [
    "# Repetindo os elementos de um array\n",
    "np.repeat(v, 3)"
   ]
  },
  {
   "cell_type": "code",
   "execution_count": 231,
   "id": "ada5a3a6",
   "metadata": {},
   "outputs": [
    {
     "data": {
      "text/plain": [
       "array([1, 2, 3, 1, 2, 3, 1, 2, 3])"
      ]
     },
     "execution_count": 231,
     "metadata": {},
     "output_type": "execute_result"
    }
   ],
   "source": [
    "# Repetindo os elementos de um array\n",
    "np.tile(v, 3)"
   ]
  },
  {
   "cell_type": "code",
   "execution_count": 233,
   "id": "3ac8bca2",
   "metadata": {},
   "outputs": [],
   "source": [
    "# Criando um array\n",
    "w = np.array([5, 6])"
   ]
  },
  {
   "cell_type": "code",
   "execution_count": 238,
   "id": "a6619ca7",
   "metadata": {},
   "outputs": [
    {
     "data": {
      "text/plain": [
       "array([1, 2, 3, 5, 6])"
      ]
     },
     "execution_count": 238,
     "metadata": {},
     "output_type": "execute_result"
    }
   ],
   "source": [
    "# Concatenando \n",
    "np.concatenate((v, w), axis=0)"
   ]
  },
  {
   "cell_type": "code",
   "execution_count": 239,
   "id": "616a7fca",
   "metadata": {},
   "outputs": [
    {
     "data": {
      "text/plain": [
       "array([1, 2, 3])"
      ]
     },
     "execution_count": 239,
     "metadata": {},
     "output_type": "execute_result"
    }
   ],
   "source": [
    "# Copiando um array\n",
    "r = np.copy(v)\n",
    "r"
   ]
  },
  {
   "cell_type": "code",
   "execution_count": null,
   "id": "5bdc344f",
   "metadata": {},
   "outputs": [],
   "source": []
  }
 ],
 "metadata": {
  "kernelspec": {
   "display_name": "Python 3",
   "language": "python",
   "name": "python3"
  },
  "language_info": {
   "codemirror_mode": {
    "name": "ipython",
    "version": 3
   },
   "file_extension": ".py",
   "mimetype": "text/x-python",
   "name": "python",
   "nbconvert_exporter": "python",
   "pygments_lexer": "ipython3",
   "version": "3.8.11"
  }
 },
 "nbformat": 4,
 "nbformat_minor": 5
}
